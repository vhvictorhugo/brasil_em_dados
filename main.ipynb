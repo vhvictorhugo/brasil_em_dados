{
 "cells": [
  {
   "cell_type": "markdown",
   "metadata": {},
   "source": [
    "**Grupo: André Elias - 3013, Thomas Chang - 3052 e Victor Hugo Santos - 3510**\n",
    "\n",
    "**Projeto: Brasil em Dados - Análise Geral das cidades brasileiras**\n",
    "\n",
    "**Professor: Fábricio A. Silva**\n",
    "\n",
    "**Disciplina: CCF 425 - Introdução à Ciência dos Dados**"
   ]
  },
  {
   "cell_type": "markdown",
   "metadata": {},
   "source": [
    "# Imports e Configurações"
   ]
  },
  {
   "cell_type": "code",
   "execution_count": 63,
   "metadata": {},
   "outputs": [],
   "source": [
    "import pandas as pd\n",
    "import seaborn as sns\n",
    "import matplotlib.pyplot as plt\n",
    "\n",
    "pd.options.display.float_format = \"{:.2f}\".format # formata saída do pandas c 2 casas após a vírgula"
   ]
  },
  {
   "cell_type": "markdown",
   "metadata": {},
   "source": [
    "# Leitura dos Dados"
   ]
  },
  {
   "cell_type": "code",
   "execution_count": 2,
   "metadata": {},
   "outputs": [],
   "source": [
    "# planilhas estão localmente localizadas - Data_Dictionary.csv contém o dicionário dos atributos de BRAZIL_CITIES.csv\n",
    "\n",
    "dados_cidades = pd.read_csv('BRAZIL_CITIES.csv', sep = ';')\n",
    "dicionario = pd.read_csv('Data_Dictionary.csv', sep = ';')"
   ]
  },
  {
   "cell_type": "markdown",
   "metadata": {},
   "source": [
    "# Verificação dos Dados\n",
    "\n",
    "Inicialmente serão verificados: \"todas as linhas ok? todas as colunas ok? data frame foi lido corretamente?\""
   ]
  },
  {
   "cell_type": "code",
   "execution_count": 3,
   "metadata": {
    "scrolled": true
   },
   "outputs": [
    {
     "name": "stdout",
     "output_type": "stream",
     "text": [
      "Quantidade linhas: 5573 \n",
      "Quantidade colunas: 81\n"
     ]
    }
   ],
   "source": [
    "print(\"Quantidade linhas:\",len(dados_cidades), \"\\nQuantidade colunas:\", len(dados_cidades.columns))"
   ]
  },
  {
   "cell_type": "markdown",
   "metadata": {},
   "source": [
    "* Segundo os dados disponibilizados no kaggle, a leitura foi feita corretamente."
   ]
  },
  {
   "cell_type": "code",
   "execution_count": 4,
   "metadata": {
    "scrolled": true
   },
   "outputs": [
    {
     "data": {
      "text/html": [
       "<div>\n",
       "<style scoped>\n",
       "    .dataframe tbody tr th:only-of-type {\n",
       "        vertical-align: middle;\n",
       "    }\n",
       "\n",
       "    .dataframe tbody tr th {\n",
       "        vertical-align: top;\n",
       "    }\n",
       "\n",
       "    .dataframe thead th {\n",
       "        text-align: right;\n",
       "    }\n",
       "</style>\n",
       "<table border=\"1\" class=\"dataframe\">\n",
       "  <thead>\n",
       "    <tr style=\"text-align: right;\">\n",
       "      <th></th>\n",
       "      <th>CITY</th>\n",
       "      <th>STATE</th>\n",
       "      <th>CAPITAL</th>\n",
       "      <th>IBGE_RES_POP</th>\n",
       "      <th>IBGE_RES_POP_BRAS</th>\n",
       "      <th>IBGE_RES_POP_ESTR</th>\n",
       "      <th>IBGE_DU</th>\n",
       "      <th>IBGE_DU_URBAN</th>\n",
       "      <th>IBGE_DU_RURAL</th>\n",
       "      <th>IBGE_POP</th>\n",
       "      <th>...</th>\n",
       "      <th>Pu_Bank</th>\n",
       "      <th>Pr_Assets</th>\n",
       "      <th>Pu_Assets</th>\n",
       "      <th>Cars</th>\n",
       "      <th>Motorcycles</th>\n",
       "      <th>Wheeled_tractor</th>\n",
       "      <th>UBER</th>\n",
       "      <th>MAC</th>\n",
       "      <th>WAL-MART</th>\n",
       "      <th>POST_OFFICES</th>\n",
       "    </tr>\n",
       "  </thead>\n",
       "  <tbody>\n",
       "    <tr>\n",
       "      <th>0</th>\n",
       "      <td>Abadia De Goiás</td>\n",
       "      <td>GO</td>\n",
       "      <td>0</td>\n",
       "      <td>6876.00</td>\n",
       "      <td>6876.00</td>\n",
       "      <td>0.00</td>\n",
       "      <td>2137.00</td>\n",
       "      <td>1546.00</td>\n",
       "      <td>591.00</td>\n",
       "      <td>5300.00</td>\n",
       "      <td>...</td>\n",
       "      <td>NaN</td>\n",
       "      <td>NaN</td>\n",
       "      <td>NaN</td>\n",
       "      <td>2158.00</td>\n",
       "      <td>1246.00</td>\n",
       "      <td>0.00</td>\n",
       "      <td>NaN</td>\n",
       "      <td>NaN</td>\n",
       "      <td>NaN</td>\n",
       "      <td>1.00</td>\n",
       "    </tr>\n",
       "    <tr>\n",
       "      <th>1</th>\n",
       "      <td>Abadia Dos Dourados</td>\n",
       "      <td>MG</td>\n",
       "      <td>0</td>\n",
       "      <td>6704.00</td>\n",
       "      <td>6704.00</td>\n",
       "      <td>0.00</td>\n",
       "      <td>2328.00</td>\n",
       "      <td>1481.00</td>\n",
       "      <td>847.00</td>\n",
       "      <td>4154.00</td>\n",
       "      <td>...</td>\n",
       "      <td>NaN</td>\n",
       "      <td>NaN</td>\n",
       "      <td>NaN</td>\n",
       "      <td>2227.00</td>\n",
       "      <td>1142.00</td>\n",
       "      <td>0.00</td>\n",
       "      <td>NaN</td>\n",
       "      <td>NaN</td>\n",
       "      <td>NaN</td>\n",
       "      <td>1.00</td>\n",
       "    </tr>\n",
       "    <tr>\n",
       "      <th>2</th>\n",
       "      <td>Abadiânia</td>\n",
       "      <td>GO</td>\n",
       "      <td>0</td>\n",
       "      <td>15757.00</td>\n",
       "      <td>15609.00</td>\n",
       "      <td>148.00</td>\n",
       "      <td>4655.00</td>\n",
       "      <td>3233.00</td>\n",
       "      <td>1422.00</td>\n",
       "      <td>10656.00</td>\n",
       "      <td>...</td>\n",
       "      <td>1.00</td>\n",
       "      <td>33724584.00</td>\n",
       "      <td>67091904.00</td>\n",
       "      <td>2838.00</td>\n",
       "      <td>1426.00</td>\n",
       "      <td>0.00</td>\n",
       "      <td>NaN</td>\n",
       "      <td>NaN</td>\n",
       "      <td>NaN</td>\n",
       "      <td>3.00</td>\n",
       "    </tr>\n",
       "    <tr>\n",
       "      <th>3</th>\n",
       "      <td>Abaeté</td>\n",
       "      <td>MG</td>\n",
       "      <td>0</td>\n",
       "      <td>22690.00</td>\n",
       "      <td>22690.00</td>\n",
       "      <td>0.00</td>\n",
       "      <td>7694.00</td>\n",
       "      <td>6667.00</td>\n",
       "      <td>1027.00</td>\n",
       "      <td>18464.00</td>\n",
       "      <td>...</td>\n",
       "      <td>2.00</td>\n",
       "      <td>44974716.00</td>\n",
       "      <td>371922572.00</td>\n",
       "      <td>6928.00</td>\n",
       "      <td>2953.00</td>\n",
       "      <td>0.00</td>\n",
       "      <td>NaN</td>\n",
       "      <td>NaN</td>\n",
       "      <td>NaN</td>\n",
       "      <td>4.00</td>\n",
       "    </tr>\n",
       "    <tr>\n",
       "      <th>4</th>\n",
       "      <td>Abaetetuba</td>\n",
       "      <td>PA</td>\n",
       "      <td>0</td>\n",
       "      <td>141100.00</td>\n",
       "      <td>141040.00</td>\n",
       "      <td>60.00</td>\n",
       "      <td>31061.00</td>\n",
       "      <td>19057.00</td>\n",
       "      <td>12004.00</td>\n",
       "      <td>82956.00</td>\n",
       "      <td>...</td>\n",
       "      <td>4.00</td>\n",
       "      <td>76181384.00</td>\n",
       "      <td>800078483.00</td>\n",
       "      <td>5277.00</td>\n",
       "      <td>25661.00</td>\n",
       "      <td>0.00</td>\n",
       "      <td>NaN</td>\n",
       "      <td>NaN</td>\n",
       "      <td>NaN</td>\n",
       "      <td>2.00</td>\n",
       "    </tr>\n",
       "  </tbody>\n",
       "</table>\n",
       "<p>5 rows × 81 columns</p>\n",
       "</div>"
      ],
      "text/plain": [
       "                  CITY STATE  CAPITAL  IBGE_RES_POP  IBGE_RES_POP_BRAS  \\\n",
       "0      Abadia De Goiás    GO        0       6876.00            6876.00   \n",
       "1  Abadia Dos Dourados    MG        0       6704.00            6704.00   \n",
       "2            Abadiânia    GO        0      15757.00           15609.00   \n",
       "3               Abaeté    MG        0      22690.00           22690.00   \n",
       "4           Abaetetuba    PA        0     141100.00          141040.00   \n",
       "\n",
       "   IBGE_RES_POP_ESTR  IBGE_DU  IBGE_DU_URBAN  IBGE_DU_RURAL  IBGE_POP  ...  \\\n",
       "0               0.00  2137.00        1546.00         591.00   5300.00  ...   \n",
       "1               0.00  2328.00        1481.00         847.00   4154.00  ...   \n",
       "2             148.00  4655.00        3233.00        1422.00  10656.00  ...   \n",
       "3               0.00  7694.00        6667.00        1027.00  18464.00  ...   \n",
       "4              60.00 31061.00       19057.00       12004.00  82956.00  ...   \n",
       "\n",
       "   Pu_Bank   Pr_Assets    Pu_Assets    Cars  Motorcycles  Wheeled_tractor  \\\n",
       "0      NaN         NaN          NaN 2158.00      1246.00             0.00   \n",
       "1      NaN         NaN          NaN 2227.00      1142.00             0.00   \n",
       "2     1.00 33724584.00  67091904.00 2838.00      1426.00             0.00   \n",
       "3     2.00 44974716.00 371922572.00 6928.00      2953.00             0.00   \n",
       "4     4.00 76181384.00 800078483.00 5277.00     25661.00             0.00   \n",
       "\n",
       "   UBER  MAC  WAL-MART  POST_OFFICES  \n",
       "0   NaN  NaN       NaN          1.00  \n",
       "1   NaN  NaN       NaN          1.00  \n",
       "2   NaN  NaN       NaN          3.00  \n",
       "3   NaN  NaN       NaN          4.00  \n",
       "4   NaN  NaN       NaN          2.00  \n",
       "\n",
       "[5 rows x 81 columns]"
      ]
     },
     "execution_count": 4,
     "metadata": {},
     "output_type": "execute_result"
    }
   ],
   "source": [
    "dados_cidades.head()"
   ]
  },
  {
   "cell_type": "markdown",
   "metadata": {},
   "source": [
    "* Uma primeira modificação é remover colunas que não farão parte das análises direcionadas pelas perguntas elaboradas na etapa 1. Porém, pelo data frame não possuir um tamanho tão grande e sua leitura possuir um tempo computacional rápido, as colunas não serão removidas. As perguntas elaboradas, como descritas pelo professor, são de apenas direcionamento e a remoção de uma coluna agora pode ser um problema no futuro. Até que o projeto chegue ao final, todos os atributos serão mantidos, pro caso de necessidade."
   ]
  },
  {
   "cell_type": "code",
   "execution_count": 5,
   "metadata": {
    "scrolled": true
   },
   "outputs": [
    {
     "name": "stdout",
     "output_type": "stream",
     "text": [
      "<class 'pandas.core.frame.DataFrame'>\n",
      "RangeIndex: 5573 entries, 0 to 5572\n",
      "Data columns (total 81 columns):\n",
      " #   Column                  Non-Null Count  Dtype  \n",
      "---  ------                  --------------  -----  \n",
      " 0   CITY                    5573 non-null   object \n",
      " 1   STATE                   5573 non-null   object \n",
      " 2   CAPITAL                 5573 non-null   int64  \n",
      " 3   IBGE_RES_POP            5565 non-null   float64\n",
      " 4   IBGE_RES_POP_BRAS       5565 non-null   float64\n",
      " 5   IBGE_RES_POP_ESTR       5565 non-null   float64\n",
      " 6   IBGE_DU                 5563 non-null   float64\n",
      " 7   IBGE_DU_URBAN           5563 non-null   float64\n",
      " 8   IBGE_DU_RURAL           5492 non-null   float64\n",
      " 9   IBGE_POP                5565 non-null   float64\n",
      " 10  IBGE_1                  5565 non-null   float64\n",
      " 11  IBGE_1-4                5565 non-null   float64\n",
      " 12  IBGE_5-9                5565 non-null   float64\n",
      " 13  IBGE_10-14              5565 non-null   float64\n",
      " 14  IBGE_15-59              5565 non-null   float64\n",
      " 15  IBGE_60+                5565 non-null   float64\n",
      " 16  IBGE_PLANTED_AREA       5570 non-null   float64\n",
      " 17  IBGE_CROP_PRODUCTION_$  5570 non-null   float64\n",
      " 18  IDHM Ranking 2010       5565 non-null   float64\n",
      " 19  IDHM                    5565 non-null   float64\n",
      " 20  IDHM_Renda              5565 non-null   float64\n",
      " 21  IDHM_Longevidade        5565 non-null   float64\n",
      " 22  IDHM_Educacao           5565 non-null   float64\n",
      " 23  LONG                    5564 non-null   float64\n",
      " 24  LAT                     5564 non-null   float64\n",
      " 25  ALT                     5564 non-null   float64\n",
      " 26  PAY_TV                  5570 non-null   float64\n",
      " 27  FIXED_PHONES            5570 non-null   float64\n",
      " 28  AREA                    5570 non-null   object \n",
      " 29  REGIAO_TUR              3285 non-null   object \n",
      " 30  CATEGORIA_TUR           3285 non-null   object \n",
      " 31  ESTIMATED_POP           5570 non-null   float64\n",
      " 32  RURAL_URBAN             5570 non-null   object \n",
      " 33  GVA_AGROPEC             5570 non-null   float64\n",
      " 34  GVA_INDUSTRY            5570 non-null   float64\n",
      " 35  GVA_SERVICES            5570 non-null   float64\n",
      " 36  GVA_PUBLIC              5570 non-null   float64\n",
      " 37   GVA_TOTAL              5570 non-null   float64\n",
      " 38  TAXES                   5570 non-null   float64\n",
      " 39  GDP                     5570 non-null   float64\n",
      " 40  POP_GDP                 5570 non-null   float64\n",
      " 41  GDP_CAPITA              5570 non-null   float64\n",
      " 42  GVA_MAIN                5570 non-null   object \n",
      " 43  MUN_EXPENDIT            4081 non-null   float64\n",
      " 44  COMP_TOT                5570 non-null   float64\n",
      " 45  COMP_A                  5570 non-null   float64\n",
      " 46  COMP_B                  5570 non-null   float64\n",
      " 47  COMP_C                  5570 non-null   float64\n",
      " 48  COMP_D                  5570 non-null   float64\n",
      " 49  COMP_E                  5570 non-null   float64\n",
      " 50  COMP_F                  5570 non-null   float64\n",
      " 51  COMP_G                  5570 non-null   float64\n",
      " 52  COMP_H                  5570 non-null   float64\n",
      " 53  COMP_I                  5570 non-null   float64\n",
      " 54  COMP_J                  5570 non-null   float64\n",
      " 55  COMP_K                  5570 non-null   float64\n",
      " 56  COMP_L                  5570 non-null   float64\n",
      " 57  COMP_M                  5570 non-null   float64\n",
      " 58  COMP_N                  5570 non-null   float64\n",
      " 59  COMP_O                  5570 non-null   float64\n",
      " 60  COMP_P                  5570 non-null   float64\n",
      " 61  COMP_Q                  5570 non-null   float64\n",
      " 62  COMP_R                  5570 non-null   float64\n",
      " 63  COMP_S                  5570 non-null   float64\n",
      " 64  COMP_T                  5570 non-null   float64\n",
      " 65  COMP_U                  5570 non-null   float64\n",
      " 66  HOTELS                  887 non-null    float64\n",
      " 67  BEDS                    887 non-null    float64\n",
      " 68  Pr_Agencies             3342 non-null   float64\n",
      " 69  Pu_Agencies             3342 non-null   float64\n",
      " 70  Pr_Bank                 3342 non-null   float64\n",
      " 71  Pu_Bank                 3342 non-null   float64\n",
      " 72  Pr_Assets               3342 non-null   float64\n",
      " 73  Pu_Assets               3342 non-null   float64\n",
      " 74  Cars                    5562 non-null   float64\n",
      " 75  Motorcycles             5562 non-null   float64\n",
      " 76  Wheeled_tractor         5562 non-null   float64\n",
      " 77  UBER                    125 non-null    float64\n",
      " 78  MAC                     166 non-null    float64\n",
      " 79  WAL-MART                102 non-null    float64\n",
      " 80  POST_OFFICES            5453 non-null   float64\n",
      "dtypes: float64(73), int64(1), object(7)\n",
      "memory usage: 3.4+ MB\n"
     ]
    }
   ],
   "source": [
    "dados_cidades.info()"
   ]
  },
  {
   "cell_type": "markdown",
   "metadata": {},
   "source": [
    " * Como se pode ver, pela função info(), temos uma quantidade considerável de valores nulos para:\n",
    "* REGIAO_TUR: Região da categoria de turismo\n",
    "* CATEGORIA_TUR: Categoria de Turismo\n",
    "* MUN_EXPENDIT: Despesas municipais - em reais\n",
    "* HOTELS: Número de Hoteis\n",
    "* BEDS: Número total de camas de hotel\n",
    "* Pr_Agencies, Pr_Bank e Pr_Assets: Número total de agências, bancos e ativos (em reais) privados\n",
    "* Pu_Agencies, Pu_Bank e Pu_Assets: Número total de agências, bancos e ativos (em reais) públicos\n",
    "* UBER: Cidade possui uber (1) ou não (0)\n",
    "* MAC: Número total de McDonald's\n",
    "* WAL-MART: Número total de Walmart's\n",
    "\n",
    "* Vale lembrar que, além dos atributos listados acima, alguns outros atributos também possuem valores nulos, porém a quantidade está muito pequena e o grupo não achou necessário tratar, por enquanto."
   ]
  },
  {
   "cell_type": "markdown",
   "metadata": {},
   "source": [
    "# Preparando Dados"
   ]
  },
  {
   "cell_type": "markdown",
   "metadata": {},
   "source": [
    "* Os atributos 'REGIAO_TUR' e 'CATEGORIA_TUR' receberão a string 'Nenhum' em campos nulos, que representam, justamente, a ausência de turismo naquela determinada região. Pela string 'Nenhum', será mais fácil e dinâmico de tratar dados futuramente em alguma possível análise."
   ]
  },
  {
   "cell_type": "code",
   "execution_count": 6,
   "metadata": {},
   "outputs": [],
   "source": [
    "dados_cidades['REGIAO_TUR'].fillna('Nenhum', inplace = True)\n",
    "dados_cidades['CATEGORIA_TUR'].fillna('Nenhum', inplace = True)"
   ]
  },
  {
   "cell_type": "markdown",
   "metadata": {},
   "source": [
    "* 'MUN_EXPENDIT' em campos nulos receberá a mediana de todos os outros valores da coluna. Inicialmente foi pensado em colocar 0 em tais campos, porém o valor 0 poderia enviezar os dados, pelo campo se tratar de um valor em reais e por 0 ser um valor extremo. Colocar a média também pode não ser uma ideia boa, pois o desvio padrão está relativamente alto, então o grupo teve a decisão de colocar a mediana. Colocando a mediana dos outros valores, a chance daquele determinado valor variar muito a análise é pequena."
   ]
  },
  {
   "cell_type": "code",
   "execution_count": 7,
   "metadata": {},
   "outputs": [
    {
     "data": {
      "text/plain": [
       "count          4081.00\n",
       "mean      104303251.55\n",
       "std       864577296.23\n",
       "min         1420804.00\n",
       "25%        15734674.00\n",
       "50%        27460018.00\n",
       "75%        56664706.00\n",
       "max     45772497944.00\n",
       "Name: MUN_EXPENDIT, dtype: float64"
      ]
     },
     "execution_count": 7,
     "metadata": {},
     "output_type": "execute_result"
    }
   ],
   "source": [
    "dados_cidades['MUN_EXPENDIT'].describe()"
   ]
  },
  {
   "cell_type": "code",
   "execution_count": 8,
   "metadata": {},
   "outputs": [],
   "source": [
    "dados_cidades['MUN_EXPENDIT'].fillna(dados_cidades['MUN_EXPENDIT'].quantile(.50), inplace = True)"
   ]
  },
  {
   "cell_type": "markdown",
   "metadata": {},
   "source": [
    "* Para os atributos 'HOTELS', 'BEDS', 'UBER', 'MAC' e 'WAL-MART' o valor nulo indica ausência daquele atributo naquela cidade, então, colocamos o valor 0 em tais campos."
   ]
  },
  {
   "cell_type": "code",
   "execution_count": 9,
   "metadata": {},
   "outputs": [],
   "source": [
    "dados_cidades['HOTELS'].fillna(0, inplace = True)\n",
    "dados_cidades['BEDS'].fillna(0, inplace = True)\n",
    "dados_cidades['UBER'].fillna(0, inplace = True)\n",
    "dados_cidades['MAC'].fillna(0, inplace = True)\n",
    "dados_cidades['WAL-MART'].fillna(0, inplace = True)"
   ]
  },
  {
   "cell_type": "markdown",
   "metadata": {},
   "source": [
    "* Quanto às instituições bancárias e quantidade de ativos, para as instituições, o valor 0 será colocado pois indica ausência e para os ativos ('Pr_Assets' e 'Pu_Assets') será colocado a mediana pelo mesmo motivo de ter sido colocado a mediana em 'MUN_EXPENDIT', por se tratar de dinheiro e o valor 0 ser capaz de enviezar a análise."
   ]
  },
  {
   "cell_type": "code",
   "execution_count": 10,
   "metadata": {},
   "outputs": [
    {
     "data": {
      "text/plain": [
       "count             3342.00\n",
       "mean        9180011950.57\n",
       "std       358579710201.26\n",
       "min                  0.00\n",
       "25%                  0.00\n",
       "50%           32310319.50\n",
       "75%          114833280.75\n",
       "max     19470765412654.00\n",
       "Name: Pr_Assets, dtype: float64"
      ]
     },
     "execution_count": 10,
     "metadata": {},
     "output_type": "execute_result"
    }
   ],
   "source": [
    "dados_cidades['Pr_Assets'].describe()"
   ]
  },
  {
   "cell_type": "code",
   "execution_count": 11,
   "metadata": {},
   "outputs": [
    {
     "data": {
      "text/plain": [
       "count            3342.00\n",
       "mean       6005096114.89\n",
       "std      150382864059.44\n",
       "min                 0.00\n",
       "25%          40470704.00\n",
       "50%         133912429.00\n",
       "75%         496960499.75\n",
       "max     8016164488595.00\n",
       "Name: Pu_Assets, dtype: float64"
      ]
     },
     "execution_count": 11,
     "metadata": {},
     "output_type": "execute_result"
    }
   ],
   "source": [
    "dados_cidades['Pu_Assets'].describe()"
   ]
  },
  {
   "cell_type": "code",
   "execution_count": 12,
   "metadata": {},
   "outputs": [],
   "source": [
    "dados_cidades['Pr_Agencies'].fillna(0, inplace = True)\n",
    "dados_cidades['Pu_Agencies'].fillna(0, inplace = True)\n",
    "dados_cidades['Pr_Bank'].fillna(0, inplace = True)\n",
    "dados_cidades['Pu_Bank'].fillna(0, inplace = True)\n",
    "dados_cidades['Pr_Assets'].fillna(dados_cidades['Pr_Assets'].quantile(.50), inplace = True)\n",
    "dados_cidades['Pu_Assets'].fillna(dados_cidades['Pu_Assets'].quantile(.50), inplace = True)"
   ]
  },
  {
   "cell_type": "markdown",
   "metadata": {},
   "source": [
    "* Verificando o que temos:"
   ]
  },
  {
   "cell_type": "code",
   "execution_count": 13,
   "metadata": {},
   "outputs": [
    {
     "name": "stdout",
     "output_type": "stream",
     "text": [
      "<class 'pandas.core.frame.DataFrame'>\n",
      "RangeIndex: 5573 entries, 0 to 5572\n",
      "Data columns (total 81 columns):\n",
      " #   Column                  Non-Null Count  Dtype  \n",
      "---  ------                  --------------  -----  \n",
      " 0   CITY                    5573 non-null   object \n",
      " 1   STATE                   5573 non-null   object \n",
      " 2   CAPITAL                 5573 non-null   int64  \n",
      " 3   IBGE_RES_POP            5565 non-null   float64\n",
      " 4   IBGE_RES_POP_BRAS       5565 non-null   float64\n",
      " 5   IBGE_RES_POP_ESTR       5565 non-null   float64\n",
      " 6   IBGE_DU                 5563 non-null   float64\n",
      " 7   IBGE_DU_URBAN           5563 non-null   float64\n",
      " 8   IBGE_DU_RURAL           5492 non-null   float64\n",
      " 9   IBGE_POP                5565 non-null   float64\n",
      " 10  IBGE_1                  5565 non-null   float64\n",
      " 11  IBGE_1-4                5565 non-null   float64\n",
      " 12  IBGE_5-9                5565 non-null   float64\n",
      " 13  IBGE_10-14              5565 non-null   float64\n",
      " 14  IBGE_15-59              5565 non-null   float64\n",
      " 15  IBGE_60+                5565 non-null   float64\n",
      " 16  IBGE_PLANTED_AREA       5570 non-null   float64\n",
      " 17  IBGE_CROP_PRODUCTION_$  5570 non-null   float64\n",
      " 18  IDHM Ranking 2010       5565 non-null   float64\n",
      " 19  IDHM                    5565 non-null   float64\n",
      " 20  IDHM_Renda              5565 non-null   float64\n",
      " 21  IDHM_Longevidade        5565 non-null   float64\n",
      " 22  IDHM_Educacao           5565 non-null   float64\n",
      " 23  LONG                    5564 non-null   float64\n",
      " 24  LAT                     5564 non-null   float64\n",
      " 25  ALT                     5564 non-null   float64\n",
      " 26  PAY_TV                  5570 non-null   float64\n",
      " 27  FIXED_PHONES            5570 non-null   float64\n",
      " 28  AREA                    5570 non-null   object \n",
      " 29  REGIAO_TUR              5573 non-null   object \n",
      " 30  CATEGORIA_TUR           5573 non-null   object \n",
      " 31  ESTIMATED_POP           5570 non-null   float64\n",
      " 32  RURAL_URBAN             5570 non-null   object \n",
      " 33  GVA_AGROPEC             5570 non-null   float64\n",
      " 34  GVA_INDUSTRY            5570 non-null   float64\n",
      " 35  GVA_SERVICES            5570 non-null   float64\n",
      " 36  GVA_PUBLIC              5570 non-null   float64\n",
      " 37   GVA_TOTAL              5570 non-null   float64\n",
      " 38  TAXES                   5570 non-null   float64\n",
      " 39  GDP                     5570 non-null   float64\n",
      " 40  POP_GDP                 5570 non-null   float64\n",
      " 41  GDP_CAPITA              5570 non-null   float64\n",
      " 42  GVA_MAIN                5570 non-null   object \n",
      " 43  MUN_EXPENDIT            5573 non-null   float64\n",
      " 44  COMP_TOT                5570 non-null   float64\n",
      " 45  COMP_A                  5570 non-null   float64\n",
      " 46  COMP_B                  5570 non-null   float64\n",
      " 47  COMP_C                  5570 non-null   float64\n",
      " 48  COMP_D                  5570 non-null   float64\n",
      " 49  COMP_E                  5570 non-null   float64\n",
      " 50  COMP_F                  5570 non-null   float64\n",
      " 51  COMP_G                  5570 non-null   float64\n",
      " 52  COMP_H                  5570 non-null   float64\n",
      " 53  COMP_I                  5570 non-null   float64\n",
      " 54  COMP_J                  5570 non-null   float64\n",
      " 55  COMP_K                  5570 non-null   float64\n",
      " 56  COMP_L                  5570 non-null   float64\n",
      " 57  COMP_M                  5570 non-null   float64\n",
      " 58  COMP_N                  5570 non-null   float64\n",
      " 59  COMP_O                  5570 non-null   float64\n",
      " 60  COMP_P                  5570 non-null   float64\n",
      " 61  COMP_Q                  5570 non-null   float64\n",
      " 62  COMP_R                  5570 non-null   float64\n",
      " 63  COMP_S                  5570 non-null   float64\n",
      " 64  COMP_T                  5570 non-null   float64\n",
      " 65  COMP_U                  5570 non-null   float64\n",
      " 66  HOTELS                  5573 non-null   float64\n",
      " 67  BEDS                    5573 non-null   float64\n",
      " 68  Pr_Agencies             5573 non-null   float64\n",
      " 69  Pu_Agencies             5573 non-null   float64\n",
      " 70  Pr_Bank                 5573 non-null   float64\n",
      " 71  Pu_Bank                 5573 non-null   float64\n",
      " 72  Pr_Assets               5573 non-null   float64\n",
      " 73  Pu_Assets               5573 non-null   float64\n",
      " 74  Cars                    5562 non-null   float64\n",
      " 75  Motorcycles             5562 non-null   float64\n",
      " 76  Wheeled_tractor         5562 non-null   float64\n",
      " 77  UBER                    5573 non-null   float64\n",
      " 78  MAC                     5573 non-null   float64\n",
      " 79  WAL-MART                5573 non-null   float64\n",
      " 80  POST_OFFICES            5453 non-null   float64\n",
      "dtypes: float64(73), int64(1), object(7)\n",
      "memory usage: 3.4+ MB\n"
     ]
    }
   ],
   "source": [
    "dados_cidades.info()"
   ]
  },
  {
   "cell_type": "markdown",
   "metadata": {},
   "source": [
    "* A maioria dos campos nulos foram preenchidos e, portanto, os restantes, que é uma quantidade extremamente pequena, será removida a linha da tabela que os contenha, para evitar futuros problemas. O grupo acredita que a remoção de poucas cidades não atrapalhará na análise, pela quantidade restante de cidades."
   ]
  },
  {
   "cell_type": "code",
   "execution_count": 14,
   "metadata": {},
   "outputs": [],
   "source": [
    "dados_cidades.dropna(inplace = True)"
   ]
  },
  {
   "cell_type": "markdown",
   "metadata": {},
   "source": [
    "* Mais uma verificação:"
   ]
  },
  {
   "cell_type": "code",
   "execution_count": 15,
   "metadata": {},
   "outputs": [
    {
     "name": "stdout",
     "output_type": "stream",
     "text": [
      "<class 'pandas.core.frame.DataFrame'>\n",
      "Int64Index: 5368 entries, 0 to 5572\n",
      "Data columns (total 81 columns):\n",
      " #   Column                  Non-Null Count  Dtype  \n",
      "---  ------                  --------------  -----  \n",
      " 0   CITY                    5368 non-null   object \n",
      " 1   STATE                   5368 non-null   object \n",
      " 2   CAPITAL                 5368 non-null   int64  \n",
      " 3   IBGE_RES_POP            5368 non-null   float64\n",
      " 4   IBGE_RES_POP_BRAS       5368 non-null   float64\n",
      " 5   IBGE_RES_POP_ESTR       5368 non-null   float64\n",
      " 6   IBGE_DU                 5368 non-null   float64\n",
      " 7   IBGE_DU_URBAN           5368 non-null   float64\n",
      " 8   IBGE_DU_RURAL           5368 non-null   float64\n",
      " 9   IBGE_POP                5368 non-null   float64\n",
      " 10  IBGE_1                  5368 non-null   float64\n",
      " 11  IBGE_1-4                5368 non-null   float64\n",
      " 12  IBGE_5-9                5368 non-null   float64\n",
      " 13  IBGE_10-14              5368 non-null   float64\n",
      " 14  IBGE_15-59              5368 non-null   float64\n",
      " 15  IBGE_60+                5368 non-null   float64\n",
      " 16  IBGE_PLANTED_AREA       5368 non-null   float64\n",
      " 17  IBGE_CROP_PRODUCTION_$  5368 non-null   float64\n",
      " 18  IDHM Ranking 2010       5368 non-null   float64\n",
      " 19  IDHM                    5368 non-null   float64\n",
      " 20  IDHM_Renda              5368 non-null   float64\n",
      " 21  IDHM_Longevidade        5368 non-null   float64\n",
      " 22  IDHM_Educacao           5368 non-null   float64\n",
      " 23  LONG                    5368 non-null   float64\n",
      " 24  LAT                     5368 non-null   float64\n",
      " 25  ALT                     5368 non-null   float64\n",
      " 26  PAY_TV                  5368 non-null   float64\n",
      " 27  FIXED_PHONES            5368 non-null   float64\n",
      " 28  AREA                    5368 non-null   object \n",
      " 29  REGIAO_TUR              5368 non-null   object \n",
      " 30  CATEGORIA_TUR           5368 non-null   object \n",
      " 31  ESTIMATED_POP           5368 non-null   float64\n",
      " 32  RURAL_URBAN             5368 non-null   object \n",
      " 33  GVA_AGROPEC             5368 non-null   float64\n",
      " 34  GVA_INDUSTRY            5368 non-null   float64\n",
      " 35  GVA_SERVICES            5368 non-null   float64\n",
      " 36  GVA_PUBLIC              5368 non-null   float64\n",
      " 37   GVA_TOTAL              5368 non-null   float64\n",
      " 38  TAXES                   5368 non-null   float64\n",
      " 39  GDP                     5368 non-null   float64\n",
      " 40  POP_GDP                 5368 non-null   float64\n",
      " 41  GDP_CAPITA              5368 non-null   float64\n",
      " 42  GVA_MAIN                5368 non-null   object \n",
      " 43  MUN_EXPENDIT            5368 non-null   float64\n",
      " 44  COMP_TOT                5368 non-null   float64\n",
      " 45  COMP_A                  5368 non-null   float64\n",
      " 46  COMP_B                  5368 non-null   float64\n",
      " 47  COMP_C                  5368 non-null   float64\n",
      " 48  COMP_D                  5368 non-null   float64\n",
      " 49  COMP_E                  5368 non-null   float64\n",
      " 50  COMP_F                  5368 non-null   float64\n",
      " 51  COMP_G                  5368 non-null   float64\n",
      " 52  COMP_H                  5368 non-null   float64\n",
      " 53  COMP_I                  5368 non-null   float64\n",
      " 54  COMP_J                  5368 non-null   float64\n",
      " 55  COMP_K                  5368 non-null   float64\n",
      " 56  COMP_L                  5368 non-null   float64\n",
      " 57  COMP_M                  5368 non-null   float64\n",
      " 58  COMP_N                  5368 non-null   float64\n",
      " 59  COMP_O                  5368 non-null   float64\n",
      " 60  COMP_P                  5368 non-null   float64\n",
      " 61  COMP_Q                  5368 non-null   float64\n",
      " 62  COMP_R                  5368 non-null   float64\n",
      " 63  COMP_S                  5368 non-null   float64\n",
      " 64  COMP_T                  5368 non-null   float64\n",
      " 65  COMP_U                  5368 non-null   float64\n",
      " 66  HOTELS                  5368 non-null   float64\n",
      " 67  BEDS                    5368 non-null   float64\n",
      " 68  Pr_Agencies             5368 non-null   float64\n",
      " 69  Pu_Agencies             5368 non-null   float64\n",
      " 70  Pr_Bank                 5368 non-null   float64\n",
      " 71  Pu_Bank                 5368 non-null   float64\n",
      " 72  Pr_Assets               5368 non-null   float64\n",
      " 73  Pu_Assets               5368 non-null   float64\n",
      " 74  Cars                    5368 non-null   float64\n",
      " 75  Motorcycles             5368 non-null   float64\n",
      " 76  Wheeled_tractor         5368 non-null   float64\n",
      " 77  UBER                    5368 non-null   float64\n",
      " 78  MAC                     5368 non-null   float64\n",
      " 79  WAL-MART                5368 non-null   float64\n",
      " 80  POST_OFFICES            5368 non-null   float64\n",
      "dtypes: float64(73), int64(1), object(7)\n",
      "memory usage: 3.4+ MB\n"
     ]
    }
   ],
   "source": [
    "dados_cidades.info()"
   ]
  },
  {
   "cell_type": "code",
   "execution_count": 16,
   "metadata": {},
   "outputs": [],
   "source": [
    "#Precisamos tirar a vírgula dos números para fazer a conversão para float\n",
    "dados_cidades['AREA'] = dados_cidades['AREA'].replace({',':''}, regex=True)"
   ]
  },
  {
   "cell_type": "code",
   "execution_count": 17,
   "metadata": {},
   "outputs": [],
   "source": [
    "dados_cidades['AREA'] = pd.to_numeric(dados_cidades['AREA'])"
   ]
  },
  {
   "cell_type": "code",
   "execution_count": 18,
   "metadata": {},
   "outputs": [
    {
     "data": {
      "text/html": [
       "<div>\n",
       "<style scoped>\n",
       "    .dataframe tbody tr th:only-of-type {\n",
       "        vertical-align: middle;\n",
       "    }\n",
       "\n",
       "    .dataframe tbody tr th {\n",
       "        vertical-align: top;\n",
       "    }\n",
       "\n",
       "    .dataframe thead th {\n",
       "        text-align: right;\n",
       "    }\n",
       "</style>\n",
       "<table border=\"1\" class=\"dataframe\">\n",
       "  <thead>\n",
       "    <tr style=\"text-align: right;\">\n",
       "      <th></th>\n",
       "      <th>CAPITAL</th>\n",
       "      <th>IBGE_RES_POP</th>\n",
       "      <th>IBGE_RES_POP_BRAS</th>\n",
       "      <th>IBGE_RES_POP_ESTR</th>\n",
       "      <th>IBGE_DU</th>\n",
       "      <th>IBGE_DU_URBAN</th>\n",
       "      <th>IBGE_DU_RURAL</th>\n",
       "      <th>IBGE_POP</th>\n",
       "      <th>IBGE_1</th>\n",
       "      <th>IBGE_1-4</th>\n",
       "      <th>...</th>\n",
       "      <th>Pu_Bank</th>\n",
       "      <th>Pr_Assets</th>\n",
       "      <th>Pu_Assets</th>\n",
       "      <th>Cars</th>\n",
       "      <th>Motorcycles</th>\n",
       "      <th>Wheeled_tractor</th>\n",
       "      <th>UBER</th>\n",
       "      <th>MAC</th>\n",
       "      <th>WAL-MART</th>\n",
       "      <th>POST_OFFICES</th>\n",
       "    </tr>\n",
       "  </thead>\n",
       "  <tbody>\n",
       "    <tr>\n",
       "      <th>count</th>\n",
       "      <td>5368.00</td>\n",
       "      <td>5368.00</td>\n",
       "      <td>5368.00</td>\n",
       "      <td>5368.00</td>\n",
       "      <td>5368.00</td>\n",
       "      <td>5368.00</td>\n",
       "      <td>5368.00</td>\n",
       "      <td>5368.00</td>\n",
       "      <td>5368.00</td>\n",
       "      <td>5368.00</td>\n",
       "      <td>...</td>\n",
       "      <td>5368.00</td>\n",
       "      <td>5368.00</td>\n",
       "      <td>5368.00</td>\n",
       "      <td>5368.00</td>\n",
       "      <td>5368.00</td>\n",
       "      <td>5368.00</td>\n",
       "      <td>5368.00</td>\n",
       "      <td>5368.00</td>\n",
       "      <td>5368.00</td>\n",
       "      <td>5368.00</td>\n",
       "    </tr>\n",
       "    <tr>\n",
       "      <th>mean</th>\n",
       "      <td>0.00</td>\n",
       "      <td>29668.47</td>\n",
       "      <td>29610.88</td>\n",
       "      <td>57.59</td>\n",
       "      <td>8834.13</td>\n",
       "      <td>7376.19</td>\n",
       "      <td>1457.94</td>\n",
       "      <td>23361.14</td>\n",
       "      <td>330.73</td>\n",
       "      <td>1334.20</td>\n",
       "      <td>...</td>\n",
       "      <td>0.94</td>\n",
       "      <td>3901865162.33</td>\n",
       "      <td>3190605977.33</td>\n",
       "      <td>8184.62</td>\n",
       "      <td>4478.31</td>\n",
       "      <td>4.67</td>\n",
       "      <td>0.02</td>\n",
       "      <td>0.09</td>\n",
       "      <td>0.03</td>\n",
       "      <td>1.99</td>\n",
       "    </tr>\n",
       "    <tr>\n",
       "      <th>std</th>\n",
       "      <td>0.06</td>\n",
       "      <td>175988.76</td>\n",
       "      <td>174486.00</td>\n",
       "      <td>1650.60</td>\n",
       "      <td>55340.76</td>\n",
       "      <td>54811.49</td>\n",
       "      <td>1690.13</td>\n",
       "      <td>162886.53</td>\n",
       "      <td>2088.26</td>\n",
       "      <td>8296.41</td>\n",
       "      <td>...</td>\n",
       "      <td>1.06</td>\n",
       "      <td>265784541280.77</td>\n",
       "      <td>117202658337.02</td>\n",
       "      <td>84268.80</td>\n",
       "      <td>19487.76</td>\n",
       "      <td>50.28</td>\n",
       "      <td>0.14</td>\n",
       "      <td>1.89</td>\n",
       "      <td>0.41</td>\n",
       "      <td>3.84</td>\n",
       "    </tr>\n",
       "    <tr>\n",
       "      <th>min</th>\n",
       "      <td>0.00</td>\n",
       "      <td>805.00</td>\n",
       "      <td>805.00</td>\n",
       "      <td>0.00</td>\n",
       "      <td>239.00</td>\n",
       "      <td>60.00</td>\n",
       "      <td>3.00</td>\n",
       "      <td>174.00</td>\n",
       "      <td>0.00</td>\n",
       "      <td>5.00</td>\n",
       "      <td>...</td>\n",
       "      <td>0.00</td>\n",
       "      <td>0.00</td>\n",
       "      <td>0.00</td>\n",
       "      <td>2.00</td>\n",
       "      <td>4.00</td>\n",
       "      <td>0.00</td>\n",
       "      <td>0.00</td>\n",
       "      <td>0.00</td>\n",
       "      <td>0.00</td>\n",
       "      <td>1.00</td>\n",
       "    </tr>\n",
       "    <tr>\n",
       "      <th>25%</th>\n",
       "      <td>0.00</td>\n",
       "      <td>5217.00</td>\n",
       "      <td>5211.75</td>\n",
       "      <td>0.00</td>\n",
       "      <td>1571.75</td>\n",
       "      <td>874.00</td>\n",
       "      <td>484.00</td>\n",
       "      <td>2797.00</td>\n",
       "      <td>38.00</td>\n",
       "      <td>158.00</td>\n",
       "      <td>...</td>\n",
       "      <td>0.00</td>\n",
       "      <td>20116157.75</td>\n",
       "      <td>84316569.75</td>\n",
       "      <td>610.50</td>\n",
       "      <td>588.00</td>\n",
       "      <td>0.00</td>\n",
       "      <td>0.00</td>\n",
       "      <td>0.00</td>\n",
       "      <td>0.00</td>\n",
       "      <td>1.00</td>\n",
       "    </tr>\n",
       "    <tr>\n",
       "      <th>50%</th>\n",
       "      <td>0.00</td>\n",
       "      <td>10879.50</td>\n",
       "      <td>10876.50</td>\n",
       "      <td>0.00</td>\n",
       "      <td>3144.00</td>\n",
       "      <td>1827.00</td>\n",
       "      <td>931.00</td>\n",
       "      <td>6136.00</td>\n",
       "      <td>91.00</td>\n",
       "      <td>373.00</td>\n",
       "      <td>...</td>\n",
       "      <td>1.00</td>\n",
       "      <td>32310319.50</td>\n",
       "      <td>133912429.00</td>\n",
       "      <td>1429.50</td>\n",
       "      <td>1273.00</td>\n",
       "      <td>0.00</td>\n",
       "      <td>0.00</td>\n",
       "      <td>0.00</td>\n",
       "      <td>0.00</td>\n",
       "      <td>1.00</td>\n",
       "    </tr>\n",
       "    <tr>\n",
       "      <th>75%</th>\n",
       "      <td>0.00</td>\n",
       "      <td>22763.00</td>\n",
       "      <td>22732.50</td>\n",
       "      <td>10.00</td>\n",
       "      <td>6550.00</td>\n",
       "      <td>4457.00</td>\n",
       "      <td>1830.25</td>\n",
       "      <td>14893.50</td>\n",
       "      <td>226.00</td>\n",
       "      <td>921.25</td>\n",
       "      <td>...</td>\n",
       "      <td>2.00</td>\n",
       "      <td>46170294.50</td>\n",
       "      <td>191374343.50</td>\n",
       "      <td>3927.00</td>\n",
       "      <td>3177.50</td>\n",
       "      <td>1.00</td>\n",
       "      <td>0.00</td>\n",
       "      <td>0.00</td>\n",
       "      <td>0.00</td>\n",
       "      <td>2.00</td>\n",
       "    </tr>\n",
       "    <tr>\n",
       "      <th>max</th>\n",
       "      <td>1.00</td>\n",
       "      <td>11253503.00</td>\n",
       "      <td>11133776.00</td>\n",
       "      <td>119727.00</td>\n",
       "      <td>3576148.00</td>\n",
       "      <td>3548433.00</td>\n",
       "      <td>33809.00</td>\n",
       "      <td>10463636.00</td>\n",
       "      <td>129464.00</td>\n",
       "      <td>514794.00</td>\n",
       "      <td>...</td>\n",
       "      <td>8.00</td>\n",
       "      <td>19470765412654.00</td>\n",
       "      <td>8016164488595.00</td>\n",
       "      <td>5740995.00</td>\n",
       "      <td>1134570.00</td>\n",
       "      <td>3236.00</td>\n",
       "      <td>1.00</td>\n",
       "      <td>130.00</td>\n",
       "      <td>26.00</td>\n",
       "      <td>225.00</td>\n",
       "    </tr>\n",
       "  </tbody>\n",
       "</table>\n",
       "<p>8 rows × 75 columns</p>\n",
       "</div>"
      ],
      "text/plain": [
       "       CAPITAL  IBGE_RES_POP  IBGE_RES_POP_BRAS  IBGE_RES_POP_ESTR    IBGE_DU  \\\n",
       "count  5368.00       5368.00            5368.00            5368.00    5368.00   \n",
       "mean      0.00      29668.47           29610.88              57.59    8834.13   \n",
       "std       0.06     175988.76          174486.00            1650.60   55340.76   \n",
       "min       0.00        805.00             805.00               0.00     239.00   \n",
       "25%       0.00       5217.00            5211.75               0.00    1571.75   \n",
       "50%       0.00      10879.50           10876.50               0.00    3144.00   \n",
       "75%       0.00      22763.00           22732.50              10.00    6550.00   \n",
       "max       1.00   11253503.00        11133776.00          119727.00 3576148.00   \n",
       "\n",
       "       IBGE_DU_URBAN  IBGE_DU_RURAL    IBGE_POP    IBGE_1  IBGE_1-4  ...  \\\n",
       "count        5368.00        5368.00     5368.00   5368.00   5368.00  ...   \n",
       "mean         7376.19        1457.94    23361.14    330.73   1334.20  ...   \n",
       "std         54811.49        1690.13   162886.53   2088.26   8296.41  ...   \n",
       "min            60.00           3.00      174.00      0.00      5.00  ...   \n",
       "25%           874.00         484.00     2797.00     38.00    158.00  ...   \n",
       "50%          1827.00         931.00     6136.00     91.00    373.00  ...   \n",
       "75%          4457.00        1830.25    14893.50    226.00    921.25  ...   \n",
       "max       3548433.00       33809.00 10463636.00 129464.00 514794.00  ...   \n",
       "\n",
       "       Pu_Bank         Pr_Assets        Pu_Assets       Cars  Motorcycles  \\\n",
       "count  5368.00           5368.00          5368.00    5368.00      5368.00   \n",
       "mean      0.94     3901865162.33    3190605977.33    8184.62      4478.31   \n",
       "std       1.06   265784541280.77  117202658337.02   84268.80     19487.76   \n",
       "min       0.00              0.00             0.00       2.00         4.00   \n",
       "25%       0.00       20116157.75      84316569.75     610.50       588.00   \n",
       "50%       1.00       32310319.50     133912429.00    1429.50      1273.00   \n",
       "75%       2.00       46170294.50     191374343.50    3927.00      3177.50   \n",
       "max       8.00 19470765412654.00 8016164488595.00 5740995.00   1134570.00   \n",
       "\n",
       "       Wheeled_tractor    UBER     MAC  WAL-MART  POST_OFFICES  \n",
       "count          5368.00 5368.00 5368.00   5368.00       5368.00  \n",
       "mean              4.67    0.02    0.09      0.03          1.99  \n",
       "std              50.28    0.14    1.89      0.41          3.84  \n",
       "min               0.00    0.00    0.00      0.00          1.00  \n",
       "25%               0.00    0.00    0.00      0.00          1.00  \n",
       "50%               0.00    0.00    0.00      0.00          1.00  \n",
       "75%               1.00    0.00    0.00      0.00          2.00  \n",
       "max            3236.00    1.00  130.00     26.00        225.00  \n",
       "\n",
       "[8 rows x 75 columns]"
      ]
     },
     "execution_count": 18,
     "metadata": {},
     "output_type": "execute_result"
    }
   ],
   "source": [
    "dados_cidades.describe()"
   ]
  },
  {
   "cell_type": "markdown",
   "metadata": {},
   "source": [
    "# Ficamos com 5368 cidades com todos os dados preenchidos"
   ]
  },
  {
   "cell_type": "markdown",
   "metadata": {},
   "source": [
    "# Analise Exploratória com intuito de responder os questionamentos propostos"
   ]
  },
  {
   "cell_type": "markdown",
   "metadata": {},
   "source": [
    "1 - Quais cidades possuem maior IDH?"
   ]
  },
  {
   "cell_type": "code",
   "execution_count": 28,
   "metadata": {
    "scrolled": true
   },
   "outputs": [
    {
     "data": {
      "text/html": [
       "<div>\n",
       "<style scoped>\n",
       "    .dataframe tbody tr th:only-of-type {\n",
       "        vertical-align: middle;\n",
       "    }\n",
       "\n",
       "    .dataframe tbody tr th {\n",
       "        vertical-align: top;\n",
       "    }\n",
       "\n",
       "    .dataframe thead th {\n",
       "        text-align: right;\n",
       "    }\n",
       "</style>\n",
       "<table border=\"1\" class=\"dataframe\">\n",
       "  <thead>\n",
       "    <tr style=\"text-align: right;\">\n",
       "      <th></th>\n",
       "      <th>CITY</th>\n",
       "      <th>CAPITAL</th>\n",
       "      <th>IDHM</th>\n",
       "    </tr>\n",
       "  </thead>\n",
       "  <tbody>\n",
       "    <tr>\n",
       "      <th>1812</th>\n",
       "      <td>Florianópolis</td>\n",
       "      <td>1</td>\n",
       "      <td>0.85</td>\n",
       "    </tr>\n",
       "    <tr>\n",
       "      <th>4582</th>\n",
       "      <td>Santos</td>\n",
       "      <td>0</td>\n",
       "      <td>0.84</td>\n",
       "    </tr>\n",
       "    <tr>\n",
       "      <th>2583</th>\n",
       "      <td>Joaçaba</td>\n",
       "      <td>0</td>\n",
       "      <td>0.83</td>\n",
       "    </tr>\n",
       "    <tr>\n",
       "      <th>2640</th>\n",
       "      <td>Jundiaí</td>\n",
       "      <td>0</td>\n",
       "      <td>0.82</td>\n",
       "    </tr>\n",
       "    <tr>\n",
       "      <th>755</th>\n",
       "      <td>Brasília</td>\n",
       "      <td>1</td>\n",
       "      <td>0.82</td>\n",
       "    </tr>\n",
       "    <tr>\n",
       "      <th>5428</th>\n",
       "      <td>Valinhos</td>\n",
       "      <td>0</td>\n",
       "      <td>0.82</td>\n",
       "    </tr>\n",
       "    <tr>\n",
       "      <th>5521</th>\n",
       "      <td>Vinhedo</td>\n",
       "      <td>0</td>\n",
       "      <td>0.82</td>\n",
       "    </tr>\n",
       "    <tr>\n",
       "      <th>342</th>\n",
       "      <td>Araraquara</td>\n",
       "      <td>0</td>\n",
       "      <td>0.81</td>\n",
       "    </tr>\n",
       "    <tr>\n",
       "      <th>3341</th>\n",
       "      <td>Nova Lima</td>\n",
       "      <td>0</td>\n",
       "      <td>0.81</td>\n",
       "    </tr>\n",
       "    <tr>\n",
       "      <th>2169</th>\n",
       "      <td>Ilha Solteira</td>\n",
       "      <td>0</td>\n",
       "      <td>0.81</td>\n",
       "    </tr>\n",
       "  </tbody>\n",
       "</table>\n",
       "</div>"
      ],
      "text/plain": [
       "               CITY  CAPITAL  IDHM\n",
       "1812  Florianópolis        1  0.85\n",
       "4582         Santos        0  0.84\n",
       "2583        Joaçaba        0  0.83\n",
       "2640        Jundiaí        0  0.82\n",
       "755        Brasília        1  0.82\n",
       "5428       Valinhos        0  0.82\n",
       "5521        Vinhedo        0  0.82\n",
       "342      Araraquara        0  0.81\n",
       "3341      Nova Lima        0  0.81\n",
       "2169  Ilha Solteira        0  0.81"
      ]
     },
     "execution_count": 28,
     "metadata": {},
     "output_type": "execute_result"
    }
   ],
   "source": [
    "dados_cidades.sort_values(by=['IDHM'], ascending=False)[['CITY', 'CAPITAL', 'IDHM']].head(10)"
   ]
  },
  {
   "cell_type": "markdown",
   "metadata": {},
   "source": [
    "2 - Existe alguma relação entre IDH e algum outro índice (renda, educação, etc)? O que leva um bom IDH?"
   ]
  },
  {
   "cell_type": "code",
   "execution_count": 25,
   "metadata": {
    "scrolled": false
   },
   "outputs": [
    {
     "data": {
      "text/plain": [
       "IDHM                     1.00\n",
       "IDHM_Educacao            0.95\n",
       "IDHM_Renda               0.95\n",
       "IDHM_Longevidade         0.85\n",
       "GDP_CAPITA               0.50\n",
       "Pu_Bank                  0.36\n",
       "Pr_Bank                  0.34\n",
       "COMP_B                   0.23\n",
       "COMP_A                   0.22\n",
       "IBGE_CROP_PRODUCTION_$   0.20\n",
       "UBER                     0.20\n",
       "COMP_E                   0.18\n",
       "GVA_AGROPEC              0.18\n",
       "Motorcycles              0.17\n",
       "COMP_C                   0.16\n",
       "GVA_INDUSTRY             0.16\n",
       "COMP_H                   0.16\n",
       "IBGE_PLANTED_AREA        0.16\n",
       "COMP_O                   0.15\n",
       "COMP_G                   0.14\n",
       "Name: IDHM, dtype: float64"
      ]
     },
     "execution_count": 25,
     "metadata": {},
     "output_type": "execute_result"
    }
   ],
   "source": [
    "dados_cidades.corr().sort_values(by=['IDHM'], ascending=False)['IDHM'].head(20)"
   ]
  },
  {
   "cell_type": "code",
   "execution_count": 115,
   "metadata": {},
   "outputs": [],
   "source": [
    "#IDHM_Educacao            0.95 -> Educação\n",
    "#IDHM_Renda               0.95 -> Renda\n",
    "#IDHM_Longevidade         0.85 -> Longetividade\n",
    "#GDP_CAPITA               0.50 -> PIB"
   ]
  },
  {
   "cell_type": "code",
   "execution_count": 26,
   "metadata": {
    "scrolled": true
   },
   "outputs": [
    {
     "data": {
      "text/plain": [
       "Pu_Assets            0.05\n",
       "COMP_U               0.04\n",
       "Pr_Assets            0.03\n",
       "ALT                  0.01\n",
       "AREA                -0.13\n",
       "IBGE_DU_RURAL       -0.21\n",
       "LONG                -0.45\n",
       "LAT                 -0.72\n",
       "IDHM Ranking 2010   -0.99\n",
       "COMP_T                NaN\n",
       "Name: IDHM, dtype: float64"
      ]
     },
     "execution_count": 26,
     "metadata": {},
     "output_type": "execute_result"
    }
   ],
   "source": [
    "dados_cidades.corr().sort_values(by=['IDHM'], ascending=False)['IDHM'].tail(10)"
   ]
  },
  {
   "cell_type": "code",
   "execution_count": 117,
   "metadata": {},
   "outputs": [],
   "source": [
    "#LONG                -0.45 ->\n",
    "#LAT                 -0.72 -> Latitude é muito interessante. Quanto mais ao Sul do país, maior a tendencia de maiores IDHs"
   ]
  },
  {
   "cell_type": "markdown",
   "metadata": {},
   "source": [
    "4 - Cidades que possuem maior IDH também possuem mais residentes?"
   ]
  },
  {
   "cell_type": "code",
   "execution_count": 27,
   "metadata": {},
   "outputs": [
    {
     "data": {
      "text/html": [
       "<div>\n",
       "<style scoped>\n",
       "    .dataframe tbody tr th:only-of-type {\n",
       "        vertical-align: middle;\n",
       "    }\n",
       "\n",
       "    .dataframe tbody tr th {\n",
       "        vertical-align: top;\n",
       "    }\n",
       "\n",
       "    .dataframe thead th {\n",
       "        text-align: right;\n",
       "    }\n",
       "</style>\n",
       "<table border=\"1\" class=\"dataframe\">\n",
       "  <thead>\n",
       "    <tr style=\"text-align: right;\">\n",
       "      <th></th>\n",
       "      <th>IDHM</th>\n",
       "      <th>ESTIMATED_POP</th>\n",
       "    </tr>\n",
       "  </thead>\n",
       "  <tbody>\n",
       "    <tr>\n",
       "      <th>IDHM</th>\n",
       "      <td>1.00</td>\n",
       "      <td>0.12</td>\n",
       "    </tr>\n",
       "    <tr>\n",
       "      <th>ESTIMATED_POP</th>\n",
       "      <td>0.12</td>\n",
       "      <td>1.00</td>\n",
       "    </tr>\n",
       "  </tbody>\n",
       "</table>\n",
       "</div>"
      ],
      "text/plain": [
       "               IDHM  ESTIMATED_POP\n",
       "IDHM           1.00           0.12\n",
       "ESTIMATED_POP  0.12           1.00"
      ]
     },
     "execution_count": 27,
     "metadata": {},
     "output_type": "execute_result"
    }
   ],
   "source": [
    "dados_cidades[['IDHM', 'ESTIMATED_POP']].corr()"
   ]
  },
  {
   "cell_type": "markdown",
   "metadata": {},
   "source": [
    "Baixa correlação"
   ]
  },
  {
   "cell_type": "code",
   "execution_count": 31,
   "metadata": {},
   "outputs": [
    {
     "data": {
      "text/plain": [
       "count   5368.00\n",
       "mean       0.66\n",
       "std        0.07\n",
       "min        0.42\n",
       "25%        0.60\n",
       "50%        0.67\n",
       "75%        0.72\n",
       "max        0.85\n",
       "Name: IDHM, dtype: float64"
      ]
     },
     "execution_count": 31,
     "metadata": {},
     "output_type": "execute_result"
    }
   ],
   "source": [
    "dados_cidades['IDHM'].describe() # Vamos considerar \"bom\" IDH acima do 75% que é 0.72"
   ]
  },
  {
   "cell_type": "code",
   "execution_count": 32,
   "metadata": {},
   "outputs": [],
   "source": [
    "dados_cidades.loc[dados_cidades['IDHM'] >= 0.75, 'IDH_BOM'] = 1\n",
    "dados_cidades.loc[dados_cidades['IDHM'] < 0.75, 'IDH_BOM'] = 0"
   ]
  },
  {
   "cell_type": "code",
   "execution_count": 33,
   "metadata": {},
   "outputs": [
    {
     "data": {
      "text/plain": [
       "121992.6592178771"
      ]
     },
     "execution_count": 33,
     "metadata": {},
     "output_type": "execute_result"
    }
   ],
   "source": [
    "dados_cidades.loc[dados_cidades['IDH_BOM'] == 1]['ESTIMATED_POP'].mean()"
   ]
  },
  {
   "cell_type": "code",
   "execution_count": 34,
   "metadata": {},
   "outputs": [
    {
     "data": {
      "text/plain": [
       "22506.120264955494"
      ]
     },
     "execution_count": 34,
     "metadata": {},
     "output_type": "execute_result"
    }
   ],
   "source": [
    "dados_cidades.loc[dados_cidades['IDH_BOM'] == 0]['ESTIMATED_POP'].mean()"
   ]
  },
  {
   "cell_type": "markdown",
   "metadata": {},
   "source": [
    "Mesmo tendo baixa correlação, temos que a média de população das cidades com bom IDH é maior"
   ]
  },
  {
   "cell_type": "markdown",
   "metadata": {},
   "source": [
    "5- Quais as melhores cidades para se viver? Elas são capitais? # Maior IDH"
   ]
  },
  {
   "cell_type": "code",
   "execution_count": 35,
   "metadata": {},
   "outputs": [
    {
     "data": {
      "text/plain": [
       "0    525\n",
       "1     12\n",
       "Name: CAPITAL, dtype: int64"
      ]
     },
     "execution_count": 35,
     "metadata": {},
     "output_type": "execute_result"
    }
   ],
   "source": [
    "dados_cidades.loc[dados_cidades['IDH_BOM'] == 1]['CAPITAL'].value_counts()"
   ]
  },
  {
   "cell_type": "code",
   "execution_count": 42,
   "metadata": {},
   "outputs": [
    {
     "data": {
      "text/html": [
       "<div>\n",
       "<style scoped>\n",
       "    .dataframe tbody tr th:only-of-type {\n",
       "        vertical-align: middle;\n",
       "    }\n",
       "\n",
       "    .dataframe tbody tr th {\n",
       "        vertical-align: top;\n",
       "    }\n",
       "\n",
       "    .dataframe thead th {\n",
       "        text-align: right;\n",
       "    }\n",
       "</style>\n",
       "<table border=\"1\" class=\"dataframe\">\n",
       "  <thead>\n",
       "    <tr style=\"text-align: right;\">\n",
       "      <th></th>\n",
       "      <th>CITY</th>\n",
       "      <th>CAPITAL</th>\n",
       "      <th>IDHM</th>\n",
       "    </tr>\n",
       "  </thead>\n",
       "  <tbody>\n",
       "    <tr>\n",
       "      <th>1812</th>\n",
       "      <td>Florianópolis</td>\n",
       "      <td>1</td>\n",
       "      <td>0.85</td>\n",
       "    </tr>\n",
       "    <tr>\n",
       "      <th>755</th>\n",
       "      <td>Brasília</td>\n",
       "      <td>1</td>\n",
       "      <td>0.82</td>\n",
       "    </tr>\n",
       "    <tr>\n",
       "      <th>4856</th>\n",
       "      <td>São Paulo</td>\n",
       "      <td>1</td>\n",
       "      <td>0.81</td>\n",
       "    </tr>\n",
       "    <tr>\n",
       "      <th>1927</th>\n",
       "      <td>Goiânia</td>\n",
       "      <td>1</td>\n",
       "      <td>0.80</td>\n",
       "    </tr>\n",
       "    <tr>\n",
       "      <th>3531</th>\n",
       "      <td>Palmas</td>\n",
       "      <td>1</td>\n",
       "      <td>0.79</td>\n",
       "    </tr>\n",
       "    <tr>\n",
       "      <th>1491</th>\n",
       "      <td>Cuiabá</td>\n",
       "      <td>1</td>\n",
       "      <td>0.79</td>\n",
       "    </tr>\n",
       "    <tr>\n",
       "      <th>971</th>\n",
       "      <td>Campo Grande</td>\n",
       "      <td>1</td>\n",
       "      <td>0.78</td>\n",
       "    </tr>\n",
       "    <tr>\n",
       "      <th>4813</th>\n",
       "      <td>São Luís</td>\n",
       "      <td>1</td>\n",
       "      <td>0.77</td>\n",
       "    </tr>\n",
       "    <tr>\n",
       "      <th>2595</th>\n",
       "      <td>João Pessoa</td>\n",
       "      <td>1</td>\n",
       "      <td>0.76</td>\n",
       "    </tr>\n",
       "    <tr>\n",
       "      <th>4333</th>\n",
       "      <td>Salvador</td>\n",
       "      <td>1</td>\n",
       "      <td>0.76</td>\n",
       "    </tr>\n",
       "    <tr>\n",
       "      <th>642</th>\n",
       "      <td>Boa Vista</td>\n",
       "      <td>1</td>\n",
       "      <td>0.75</td>\n",
       "    </tr>\n",
       "    <tr>\n",
       "      <th>5212</th>\n",
       "      <td>Teresina</td>\n",
       "      <td>1</td>\n",
       "      <td>0.75</td>\n",
       "    </tr>\n",
       "  </tbody>\n",
       "</table>\n",
       "</div>"
      ],
      "text/plain": [
       "               CITY  CAPITAL  IDHM\n",
       "1812  Florianópolis        1  0.85\n",
       "755        Brasília        1  0.82\n",
       "4856      São Paulo        1  0.81\n",
       "1927        Goiânia        1  0.80\n",
       "3531         Palmas        1  0.79\n",
       "1491         Cuiabá        1  0.79\n",
       "971    Campo Grande        1  0.78\n",
       "4813       São Luís        1  0.77\n",
       "2595    João Pessoa        1  0.76\n",
       "4333       Salvador        1  0.76\n",
       "642       Boa Vista        1  0.75\n",
       "5212       Teresina        1  0.75"
      ]
     },
     "execution_count": 42,
     "metadata": {},
     "output_type": "execute_result"
    }
   ],
   "source": [
    "#Capitais com maiores IDHs\n",
    "dados_cidades.loc[(dados_cidades['IDH_BOM'] == 1) & (dados_cidades['CAPITAL'] == 1)][['CITY', 'CAPITAL', 'IDHM']].sort_values(by='IDHM', ascending = False)"
   ]
  },
  {
   "cell_type": "markdown",
   "metadata": {},
   "source": [
    "6 - Podemos relacionar diretamente o número de McDonald's com o IDH"
   ]
  },
  {
   "cell_type": "code",
   "execution_count": 54,
   "metadata": {
    "scrolled": false
   },
   "outputs": [
    {
     "data": {
      "text/html": [
       "<div>\n",
       "<style scoped>\n",
       "    .dataframe tbody tr th:only-of-type {\n",
       "        vertical-align: middle;\n",
       "    }\n",
       "\n",
       "    .dataframe tbody tr th {\n",
       "        vertical-align: top;\n",
       "    }\n",
       "\n",
       "    .dataframe thead th {\n",
       "        text-align: right;\n",
       "    }\n",
       "</style>\n",
       "<table border=\"1\" class=\"dataframe\">\n",
       "  <thead>\n",
       "    <tr style=\"text-align: right;\">\n",
       "      <th></th>\n",
       "      <th>IDHM</th>\n",
       "      <th>MAC</th>\n",
       "    </tr>\n",
       "  </thead>\n",
       "  <tbody>\n",
       "    <tr>\n",
       "      <th>IDHM</th>\n",
       "      <td>1.00</td>\n",
       "      <td>0.08</td>\n",
       "    </tr>\n",
       "    <tr>\n",
       "      <th>MAC</th>\n",
       "      <td>0.08</td>\n",
       "      <td>1.00</td>\n",
       "    </tr>\n",
       "  </tbody>\n",
       "</table>\n",
       "</div>"
      ],
      "text/plain": [
       "      IDHM  MAC\n",
       "IDHM  1.00 0.08\n",
       "MAC   0.08 1.00"
      ]
     },
     "execution_count": 54,
     "metadata": {},
     "output_type": "execute_result"
    }
   ],
   "source": [
    "dados_cidades[['IDHM', 'MAC']].corr()"
   ]
  },
  {
   "cell_type": "markdown",
   "metadata": {},
   "source": [
    "Correlação baixa, resposta é não"
   ]
  },
  {
   "cell_type": "markdown",
   "metadata": {},
   "source": [
    "7- Podemos afirmar com confiança que cidades que possuem maior expectativa de vida também são capitais?"
   ]
  },
  {
   "cell_type": "code",
   "execution_count": 58,
   "metadata": {},
   "outputs": [
    {
     "data": {
      "text/plain": [
       "<seaborn.axisgrid.FacetGrid at 0x1bdc719db50>"
      ]
     },
     "execution_count": 58,
     "metadata": {},
     "output_type": "execute_result"
    },
    {
     "data": {
      "image/png": "[encoded data removed]",
      "text/plain": [
       "<Figure size 409x360 with 1 Axes>"
      ]
     },
     "metadata": {
      "needs_background": "light"
     },
     "output_type": "display_data"
    }
   ],
   "source": [
    "#ax = sns.distplot(dados_cidades, x=\"IDHM_Longevidade\")\n",
    "\n",
    "sns.displot(data=dados_cidades, x=\"IDHM_Longevidade\", hue=\"CAPITAL\", kde=True, stat='probability')"
   ]
  },
  {
   "cell_type": "markdown",
   "metadata": {},
   "source": [
    "8- Cidades que tem mais estrangeiros são as que tem mais oportunidades de emprego?"
   ]
  },
  {
   "cell_type": "code",
   "execution_count": 59,
   "metadata": {
    "scrolled": true
   },
   "outputs": [
    {
     "data": {
      "text/plain": [
       "<matplotlib.axes._subplots.AxesSubplot at 0x1bdc8325310>"
      ]
     },
     "execution_count": 59,
     "metadata": {},
     "output_type": "execute_result"
    },
    {
     "data": {
      "image/png": "[encoded data removed]",
      "text/plain": [
       "<Figure size 432x288 with 1 Axes>"
      ]
     },
     "metadata": {
      "needs_background": "light"
     },
     "output_type": "display_data"
    }
   ],
   "source": [
    "sns.scatterplot(data=dados_cidades, x=\"IBGE_RES_POP_ESTR\", y=\"COMP_TOT\")"
   ]
  },
  {
   "cell_type": "code",
   "execution_count": 64,
   "metadata": {
    "scrolled": true
   },
   "outputs": [
    {
     "data": {
      "image/png": "[encoded data removed]",
      "text/plain": [
       "<Figure size 432x288 with 1 Axes>"
      ]
     },
     "metadata": {
      "needs_background": "light"
     },
     "output_type": "display_data"
    }
   ],
   "source": [
    "sns.scatterplot(data=dados_cidades.loc[dados_cidades['CITY'] != 'São Paulo'], x=\"IBGE_RES_POP_ESTR\", y=\"COMP_TOT\")\n",
    "plt.yscale(\"log\")\n",
    "plt.xscale(\"log\")"
   ]
  },
  {
   "cell_type": "markdown",
   "metadata": {},
   "source": [
    "9- Existe alguma relação entre cidades que possuem maior renda e assinam TV a cabo"
   ]
  },
  {
   "cell_type": "code",
   "execution_count": 129,
   "metadata": {},
   "outputs": [
    {
     "data": {
      "text/plain": [
       "count      5368.00\n",
       "mean       2369.45\n",
       "std       30252.35\n",
       "min           1.00\n",
       "25%          90.00\n",
       "50%         246.00\n",
       "75%         783.25\n",
       "max     2047668.00\n",
       "Name: PAY_TV, dtype: float64"
      ]
     },
     "execution_count": 129,
     "metadata": {},
     "output_type": "execute_result"
    }
   ],
   "source": [
    "dados_cidades['PAY_TV'].describe()"
   ]
  },
  {
   "cell_type": "code",
   "execution_count": 65,
   "metadata": {},
   "outputs": [
    {
     "data": {
      "image/png": "[encoded data removed]",
      "text/plain": [
       "<Figure size 432x288 with 1 Axes>"
      ]
     },
     "metadata": {
      "needs_background": "light"
     },
     "output_type": "display_data"
    }
   ],
   "source": [
    "sns.scatterplot(data=dados_cidades, y=\"PAY_TV\", x=\"IDHM_Renda\")\n",
    "plt.yscale(\"log\")\n",
    "plt.xscale(\"log\")"
   ]
  },
  {
   "cell_type": "code",
   "execution_count": 66,
   "metadata": {},
   "outputs": [
    {
     "data": {
      "image/png": "[encoded data removed]",
      "text/plain": [
       "<Figure size 432x288 with 1 Axes>"
      ]
     },
     "metadata": {
      "needs_background": "light"
     },
     "output_type": "display_data"
    }
   ],
   "source": [
    "sns.scatterplot(data=dados_cidades.loc[dados_cidades['CITY'] != 'São Paulo'], y=\"PAY_TV\", x=\"IDHM_Renda\")\n",
    "plt.yscale(\"log\")\n",
    "plt.xscale(\"log\")"
   ]
  },
  {
   "cell_type": "code",
   "execution_count": 81,
   "metadata": {},
   "outputs": [
    {
     "data": {
      "text/html": [
       "<div>\n",
       "<style scoped>\n",
       "    .dataframe tbody tr th:only-of-type {\n",
       "        vertical-align: middle;\n",
       "    }\n",
       "\n",
       "    .dataframe tbody tr th {\n",
       "        vertical-align: top;\n",
       "    }\n",
       "\n",
       "    .dataframe thead th {\n",
       "        text-align: right;\n",
       "    }\n",
       "</style>\n",
       "<table border=\"1\" class=\"dataframe\">\n",
       "  <thead>\n",
       "    <tr style=\"text-align: right;\">\n",
       "      <th></th>\n",
       "      <th>IDHM_Renda</th>\n",
       "      <th>PAY_TV</th>\n",
       "    </tr>\n",
       "  </thead>\n",
       "  <tbody>\n",
       "    <tr>\n",
       "      <th>IDHM_Renda</th>\n",
       "      <td>1.00</td>\n",
       "      <td>0.21</td>\n",
       "    </tr>\n",
       "    <tr>\n",
       "      <th>PAY_TV</th>\n",
       "      <td>0.21</td>\n",
       "      <td>1.00</td>\n",
       "    </tr>\n",
       "  </tbody>\n",
       "</table>\n",
       "</div>"
      ],
      "text/plain": [
       "            IDHM_Renda  PAY_TV\n",
       "IDHM_Renda        1.00    0.21\n",
       "PAY_TV            0.21    1.00"
      ]
     },
     "execution_count": 81,
     "metadata": {},
     "output_type": "execute_result"
    }
   ],
   "source": [
    "aux = dados_cidades[dados_cidades['CITY'] != 'São Paulo']\n",
    "aux[['IDHM_Renda', 'PAY_TV']].corr()"
   ]
  },
  {
   "cell_type": "markdown",
   "metadata": {},
   "source": [
    "10- Cidades com maior carga tributária são as que possuem maior IDH?"
   ]
  },
  {
   "cell_type": "code",
   "execution_count": 68,
   "metadata": {},
   "outputs": [
    {
     "data": {
      "text/plain": [
       "<matplotlib.axes._subplots.AxesSubplot at 0x1bdc9758310>"
      ]
     },
     "execution_count": 68,
     "metadata": {},
     "output_type": "execute_result"
    },
    {
     "data": {
      "image/png": "[encoded data removed]",
      "text/plain": [
       "<Figure size 432x288 with 1 Axes>"
      ]
     },
     "metadata": {
      "needs_background": "light"
     },
     "output_type": "display_data"
    }
   ],
   "source": [
    "sns.scatterplot(data=dados_cidades, y=\"TAXES\", x=\"IDHM\")"
   ]
  },
  {
   "cell_type": "code",
   "execution_count": 84,
   "metadata": {},
   "outputs": [
    {
     "data": {
      "text/plain": [
       "<matplotlib.axes._subplots.AxesSubplot at 0x1bdc86350d0>"
      ]
     },
     "execution_count": 84,
     "metadata": {},
     "output_type": "execute_result"
    },
    {
     "data": {
      "image/png": "[encoded data removed]",
      "text/plain": [
       "<Figure size 432x288 with 1 Axes>"
      ]
     },
     "metadata": {
      "needs_background": "light"
     },
     "output_type": "display_data"
    }
   ],
   "source": [
    "sns.scatterplot(data=dados_cidades.loc[dados_cidades['CITY'] != 'São Paulo'], y=\"TAXES\", x=\"IDHM\")"
   ]
  },
  {
   "cell_type": "markdown",
   "metadata": {},
   "source": [
    "11- As cidades que possuem mais hectares de plantação são também as que mais possuem número total de tratores de rodas?"
   ]
  },
  {
   "cell_type": "code",
   "execution_count": 87,
   "metadata": {},
   "outputs": [
    {
     "data": {
      "text/plain": [
       "<matplotlib.axes._subplots.AxesSubplot at 0x1bdc97b62e0>"
      ]
     },
     "execution_count": 87,
     "metadata": {},
     "output_type": "execute_result"
    },
    {
     "data": {
      "image/png": "[encoded data removed]",
      "text/plain": [
       "<Figure size 432x288 with 1 Axes>"
      ]
     },
     "metadata": {
      "needs_background": "light"
     },
     "output_type": "display_data"
    }
   ],
   "source": [
    "sns.scatterplot(data=dados_cidades, y=\"Wheeled_tractor\", x=\"IBGE_PLANTED_AREA\")\n",
    "#É o oposto"
   ]
  },
  {
   "cell_type": "markdown",
   "metadata": {},
   "source": [
    "12- Quais a 3 cidades que mais pagam impostos?"
   ]
  },
  {
   "cell_type": "code",
   "execution_count": 91,
   "metadata": {},
   "outputs": [
    {
     "data": {
      "text/html": [
       "<div>\n",
       "<style scoped>\n",
       "    .dataframe tbody tr th:only-of-type {\n",
       "        vertical-align: middle;\n",
       "    }\n",
       "\n",
       "    .dataframe tbody tr th {\n",
       "        vertical-align: top;\n",
       "    }\n",
       "\n",
       "    .dataframe thead th {\n",
       "        text-align: right;\n",
       "    }\n",
       "</style>\n",
       "<table border=\"1\" class=\"dataframe\">\n",
       "  <thead>\n",
       "    <tr style=\"text-align: right;\">\n",
       "      <th></th>\n",
       "      <th>CITY</th>\n",
       "      <th>TAXES</th>\n",
       "    </tr>\n",
       "  </thead>\n",
       "  <tbody>\n",
       "    <tr>\n",
       "      <th>4856</th>\n",
       "      <td>São Paulo</td>\n",
       "      <td>117125386.74</td>\n",
       "    </tr>\n",
       "    <tr>\n",
       "      <th>755</th>\n",
       "      <td>Brasília</td>\n",
       "      <td>29145585.42</td>\n",
       "    </tr>\n",
       "    <tr>\n",
       "      <th>2886</th>\n",
       "      <td>Manaus</td>\n",
       "      <td>12433232.22</td>\n",
       "    </tr>\n",
       "  </tbody>\n",
       "</table>\n",
       "</div>"
      ],
      "text/plain": [
       "           CITY        TAXES\n",
       "4856  São Paulo 117125386.74\n",
       "755    Brasília  29145585.42\n",
       "2886     Manaus  12433232.22"
      ]
     },
     "execution_count": 91,
     "metadata": {},
     "output_type": "execute_result"
    }
   ],
   "source": [
    "dados_cidades.nlargest(3,'TAXES')[['CITY', 'TAXES']]"
   ]
  },
  {
   "cell_type": "markdown",
   "metadata": {},
   "source": [
    "13- Quais são as maiores cidades que não são capitais? Existem cidades que não são capitais e são maiores do que alguma capital?"
   ]
  },
  {
   "cell_type": "code",
   "execution_count": 99,
   "metadata": {},
   "outputs": [
    {
     "data": {
      "text/html": [
       "<div>\n",
       "<style scoped>\n",
       "    .dataframe tbody tr th:only-of-type {\n",
       "        vertical-align: middle;\n",
       "    }\n",
       "\n",
       "    .dataframe tbody tr th {\n",
       "        vertical-align: top;\n",
       "    }\n",
       "\n",
       "    .dataframe thead th {\n",
       "        text-align: right;\n",
       "    }\n",
       "</style>\n",
       "<table border=\"1\" class=\"dataframe\">\n",
       "  <thead>\n",
       "    <tr style=\"text-align: right;\">\n",
       "      <th></th>\n",
       "      <th>CITY</th>\n",
       "      <th>IBGE_RES_POP</th>\n",
       "    </tr>\n",
       "  </thead>\n",
       "  <tbody>\n",
       "    <tr>\n",
       "      <th>951</th>\n",
       "      <td>Campinas</td>\n",
       "      <td>1080113.00</td>\n",
       "    </tr>\n",
       "    <tr>\n",
       "      <th>4670</th>\n",
       "      <td>São Gonçalo</td>\n",
       "      <td>999728.00</td>\n",
       "    </tr>\n",
       "    <tr>\n",
       "      <th>1637</th>\n",
       "      <td>Duque De Caxias</td>\n",
       "      <td>855048.00</td>\n",
       "    </tr>\n",
       "    <tr>\n",
       "      <th>3332</th>\n",
       "      <td>Nova Iguaçu</td>\n",
       "      <td>796257.00</td>\n",
       "    </tr>\n",
       "    <tr>\n",
       "      <th>4599</th>\n",
       "      <td>São Bernardo Do Campo</td>\n",
       "      <td>765463.00</td>\n",
       "    </tr>\n",
       "  </tbody>\n",
       "</table>\n",
       "</div>"
      ],
      "text/plain": [
       "                       CITY  IBGE_RES_POP\n",
       "951                Campinas    1080113.00\n",
       "4670            São Gonçalo     999728.00\n",
       "1637        Duque De Caxias     855048.00\n",
       "3332            Nova Iguaçu     796257.00\n",
       "4599  São Bernardo Do Campo     765463.00"
      ]
     },
     "execution_count": 99,
     "metadata": {},
     "output_type": "execute_result"
    }
   ],
   "source": [
    "dados_cidades.loc[dados_cidades['CAPITAL'] != 1].nlargest(5,'IBGE_RES_POP')[['CITY', 'IBGE_RES_POP']]"
   ]
  },
  {
   "cell_type": "code",
   "execution_count": 98,
   "metadata": {},
   "outputs": [
    {
     "data": {
      "text/html": [
       "<div>\n",
       "<style scoped>\n",
       "    .dataframe tbody tr th:only-of-type {\n",
       "        vertical-align: middle;\n",
       "    }\n",
       "\n",
       "    .dataframe tbody tr th {\n",
       "        vertical-align: top;\n",
       "    }\n",
       "\n",
       "    .dataframe thead th {\n",
       "        text-align: right;\n",
       "    }\n",
       "</style>\n",
       "<table border=\"1\" class=\"dataframe\">\n",
       "  <thead>\n",
       "    <tr style=\"text-align: right;\">\n",
       "      <th></th>\n",
       "      <th>CITY</th>\n",
       "      <th>IBGE_RES_POP</th>\n",
       "    </tr>\n",
       "  </thead>\n",
       "  <tbody>\n",
       "    <tr>\n",
       "      <th>1812</th>\n",
       "      <td>Florianópolis</td>\n",
       "      <td>421240.00</td>\n",
       "    </tr>\n",
       "    <tr>\n",
       "      <th>2832</th>\n",
       "      <td>Macapá</td>\n",
       "      <td>398204.00</td>\n",
       "    </tr>\n",
       "    <tr>\n",
       "      <th>4193</th>\n",
       "      <td>Rio Branco</td>\n",
       "      <td>336038.00</td>\n",
       "    </tr>\n",
       "    <tr>\n",
       "      <th>642</th>\n",
       "      <td>Boa Vista</td>\n",
       "      <td>284313.00</td>\n",
       "    </tr>\n",
       "    <tr>\n",
       "      <th>3531</th>\n",
       "      <td>Palmas</td>\n",
       "      <td>228332.00</td>\n",
       "    </tr>\n",
       "  </tbody>\n",
       "</table>\n",
       "</div>"
      ],
      "text/plain": [
       "               CITY  IBGE_RES_POP\n",
       "1812  Florianópolis     421240.00\n",
       "2832         Macapá     398204.00\n",
       "4193     Rio Branco     336038.00\n",
       "642       Boa Vista     284313.00\n",
       "3531         Palmas     228332.00"
      ]
     },
     "execution_count": 98,
     "metadata": {},
     "output_type": "execute_result"
    }
   ],
   "source": [
    "dados_cidades.loc[dados_cidades['CAPITAL'] == 1].nlargest(500,'IBGE_RES_POP')[['CITY', 'IBGE_RES_POP']].tail()"
   ]
  },
  {
   "cell_type": "markdown",
   "metadata": {},
   "source": [
    "Sim, existem cidades que não são capitais e que são maiores que alguma capital. Um exemplo é Campinas e Florianópolis."
   ]
  },
  {
   "cell_type": "markdown",
   "metadata": {},
   "source": [
    "14- Quais estados que mais produzem safra (agricultura), elas possuem muita mão de obra estrangeira?"
   ]
  },
  {
   "cell_type": "code",
   "execution_count": 110,
   "metadata": {},
   "outputs": [],
   "source": [
    "# agrupando por estados\n",
    "dados_estados_sum = dados_cidades.groupby(['STATE']).sum()"
   ]
  },
  {
   "cell_type": "code",
   "execution_count": 111,
   "metadata": {},
   "outputs": [
    {
     "data": {
      "text/plain": [
       "11448.851851851852"
      ]
     },
     "execution_count": 111,
     "metadata": {},
     "output_type": "execute_result"
    }
   ],
   "source": [
    "dados_estados_sum['IBGE_RES_POP_ESTR'].mean()"
   ]
  },
  {
   "cell_type": "code",
   "execution_count": 122,
   "metadata": {},
   "outputs": [
    {
     "data": {
      "text/html": [
       "<div>\n",
       "<style scoped>\n",
       "    .dataframe tbody tr th:only-of-type {\n",
       "        vertical-align: middle;\n",
       "    }\n",
       "\n",
       "    .dataframe tbody tr th {\n",
       "        vertical-align: top;\n",
       "    }\n",
       "\n",
       "    .dataframe thead th {\n",
       "        text-align: right;\n",
       "    }\n",
       "</style>\n",
       "<table border=\"1\" class=\"dataframe\">\n",
       "  <thead>\n",
       "    <tr style=\"text-align: right;\">\n",
       "      <th></th>\n",
       "      <th>GVA_AGROPEC</th>\n",
       "      <th>IBGE_RES_POP_ESTR</th>\n",
       "    </tr>\n",
       "    <tr>\n",
       "      <th>STATE</th>\n",
       "      <th></th>\n",
       "      <th></th>\n",
       "    </tr>\n",
       "  </thead>\n",
       "  <tbody>\n",
       "    <tr>\n",
       "      <th>PR</th>\n",
       "      <td>31038394.40</td>\n",
       "      <td>19538.00</td>\n",
       "    </tr>\n",
       "    <tr>\n",
       "      <th>RS</th>\n",
       "      <td>30512205.76</td>\n",
       "      <td>17384.00</td>\n",
       "    </tr>\n",
       "    <tr>\n",
       "      <th>SP</th>\n",
       "      <td>30364219.18</td>\n",
       "      <td>180395.00</td>\n",
       "    </tr>\n",
       "    <tr>\n",
       "      <th>MG</th>\n",
       "      <td>27798564.49</td>\n",
       "      <td>10149.00</td>\n",
       "    </tr>\n",
       "    <tr>\n",
       "      <th>MT</th>\n",
       "      <td>22018684.51</td>\n",
       "      <td>3089.00</td>\n",
       "    </tr>\n",
       "    <tr>\n",
       "      <th>GO</th>\n",
       "      <td>16777610.12</td>\n",
       "      <td>5377.00</td>\n",
       "    </tr>\n",
       "    <tr>\n",
       "      <th>PA</th>\n",
       "      <td>14912877.30</td>\n",
       "      <td>3566.00</td>\n",
       "    </tr>\n",
       "    <tr>\n",
       "      <th>BA</th>\n",
       "      <td>13457196.93</td>\n",
       "      <td>8875.00</td>\n",
       "    </tr>\n",
       "    <tr>\n",
       "      <th>MS</th>\n",
       "      <td>13396656.03</td>\n",
       "      <td>8620.00</td>\n",
       "    </tr>\n",
       "    <tr>\n",
       "      <th>SC</th>\n",
       "      <td>12697019.73</td>\n",
       "      <td>10317.00</td>\n",
       "    </tr>\n",
       "  </tbody>\n",
       "</table>\n",
       "</div>"
      ],
      "text/plain": [
       "       GVA_AGROPEC  IBGE_RES_POP_ESTR\n",
       "STATE                                \n",
       "PR     31038394.40           19538.00\n",
       "RS     30512205.76           17384.00\n",
       "SP     30364219.18          180395.00\n",
       "MG     27798564.49           10149.00\n",
       "MT     22018684.51            3089.00\n",
       "GO     16777610.12            5377.00\n",
       "PA     14912877.30            3566.00\n",
       "BA     13457196.93            8875.00\n",
       "MS     13396656.03            8620.00\n",
       "SC     12697019.73           10317.00"
      ]
     },
     "execution_count": 122,
     "metadata": {},
     "output_type": "execute_result"
    }
   ],
   "source": [
    "dados_estados_sum.nlargest(10,'GVA_AGROPEC')[['GVA_AGROPEC', 'IBGE_RES_POP_ESTR']]"
   ]
  },
  {
   "cell_type": "markdown",
   "metadata": {},
   "source": [
    "O estado de São Paulo concentra a maior parte dos estrangeiros"
   ]
  },
  {
   "cell_type": "markdown",
   "metadata": {},
   "source": [
    "15- Curiosidade: Quais as cidades mais altas do brasil?"
   ]
  },
  {
   "cell_type": "code",
   "execution_count": 152,
   "metadata": {},
   "outputs": [
    {
     "data": {
      "text/html": [
       "<div>\n",
       "<style scoped>\n",
       "    .dataframe tbody tr th:only-of-type {\n",
       "        vertical-align: middle;\n",
       "    }\n",
       "\n",
       "    .dataframe tbody tr th {\n",
       "        vertical-align: top;\n",
       "    }\n",
       "\n",
       "    .dataframe thead th {\n",
       "        text-align: right;\n",
       "    }\n",
       "</style>\n",
       "<table border=\"1\" class=\"dataframe\">\n",
       "  <thead>\n",
       "    <tr style=\"text-align: right;\">\n",
       "      <th></th>\n",
       "      <th>CITY</th>\n",
       "      <th>ALT</th>\n",
       "    </tr>\n",
       "  </thead>\n",
       "  <tbody>\n",
       "    <tr>\n",
       "      <th>1578</th>\n",
       "      <td>Divisa Nova</td>\n",
       "      <td>874579.00</td>\n",
       "    </tr>\n",
       "    <tr>\n",
       "      <th>4834</th>\n",
       "      <td>São Miguel Arcanjo</td>\n",
       "      <td>665758.00</td>\n",
       "    </tr>\n",
       "    <tr>\n",
       "      <th>1126</th>\n",
       "      <td>Carmésia</td>\n",
       "      <td>572655.00</td>\n",
       "    </tr>\n",
       "    <tr>\n",
       "      <th>3391</th>\n",
       "      <td>Nova Xavantina</td>\n",
       "      <td>271009.00</td>\n",
       "    </tr>\n",
       "    <tr>\n",
       "      <th>3442</th>\n",
       "      <td>Olho D'Água Grande</td>\n",
       "      <td>134461.00</td>\n",
       "    </tr>\n",
       "    <tr>\n",
       "      <th>1942</th>\n",
       "      <td>Governador Archer</td>\n",
       "      <td>132852.00</td>\n",
       "    </tr>\n",
       "    <tr>\n",
       "      <th>990</th>\n",
       "      <td>Campos Do Jordão</td>\n",
       "      <td>1639.15</td>\n",
       "    </tr>\n",
       "    <tr>\n",
       "      <th>4967</th>\n",
       "      <td>Senador Amaral</td>\n",
       "      <td>1495.64</td>\n",
       "    </tr>\n",
       "    <tr>\n",
       "      <th>698</th>\n",
       "      <td>Bom Repouso</td>\n",
       "      <td>1378.71</td>\n",
       "    </tr>\n",
       "    <tr>\n",
       "      <th>5411</th>\n",
       "      <td>Urupema</td>\n",
       "      <td>1345.42</td>\n",
       "    </tr>\n",
       "  </tbody>\n",
       "</table>\n",
       "</div>"
      ],
      "text/plain": [
       "                    CITY       ALT\n",
       "1578         Divisa Nova 874579.00\n",
       "4834  São Miguel Arcanjo 665758.00\n",
       "1126            Carmésia 572655.00\n",
       "3391      Nova Xavantina 271009.00\n",
       "3442  Olho D'Água Grande 134461.00\n",
       "1942   Governador Archer 132852.00\n",
       "990     Campos Do Jordão   1639.15\n",
       "4967      Senador Amaral   1495.64\n",
       "698          Bom Repouso   1378.71\n",
       "5411             Urupema   1345.42"
      ]
     },
     "execution_count": 152,
     "metadata": {},
     "output_type": "execute_result"
    }
   ],
   "source": [
    "dados_cidades.nlargest(10, 'ALT')[['CITY', 'ALT']]"
   ]
  },
  {
   "cell_type": "code",
   "execution_count": 149,
   "metadata": {},
   "outputs": [
    {
     "data": {
      "text/html": [
       "<div>\n",
       "<style scoped>\n",
       "    .dataframe tbody tr th:only-of-type {\n",
       "        vertical-align: middle;\n",
       "    }\n",
       "\n",
       "    .dataframe tbody tr th {\n",
       "        vertical-align: top;\n",
       "    }\n",
       "\n",
       "    .dataframe thead th {\n",
       "        text-align: right;\n",
       "    }\n",
       "</style>\n",
       "<table border=\"1\" class=\"dataframe\">\n",
       "  <thead>\n",
       "    <tr style=\"text-align: right;\">\n",
       "      <th></th>\n",
       "      <th>ALT</th>\n",
       "    </tr>\n",
       "    <tr>\n",
       "      <th>STATE</th>\n",
       "      <th></th>\n",
       "    </tr>\n",
       "  </thead>\n",
       "  <tbody>\n",
       "    <tr>\n",
       "      <th>MG</th>\n",
       "      <td>2392.35</td>\n",
       "    </tr>\n",
       "    <tr>\n",
       "      <th>MT</th>\n",
       "      <td>2247.61</td>\n",
       "    </tr>\n",
       "    <tr>\n",
       "      <th>SP</th>\n",
       "      <td>1638.08</td>\n",
       "    </tr>\n",
       "    <tr>\n",
       "      <th>AL</th>\n",
       "      <td>1516.54</td>\n",
       "    </tr>\n",
       "    <tr>\n",
       "      <th>DF</th>\n",
       "      <td>1115.25</td>\n",
       "    </tr>\n",
       "    <tr>\n",
       "      <th>MA</th>\n",
       "      <td>725.12</td>\n",
       "    </tr>\n",
       "    <tr>\n",
       "      <th>GO</th>\n",
       "      <td>653.69</td>\n",
       "    </tr>\n",
       "    <tr>\n",
       "      <th>PR</th>\n",
       "      <td>590.20</td>\n",
       "    </tr>\n",
       "    <tr>\n",
       "      <th>SC</th>\n",
       "      <td>451.72</td>\n",
       "    </tr>\n",
       "    <tr>\n",
       "      <th>PE</th>\n",
       "      <td>415.18</td>\n",
       "    </tr>\n",
       "  </tbody>\n",
       "</table>\n",
       "</div>"
      ],
      "text/plain": [
       "          ALT\n",
       "STATE        \n",
       "MG    2392.35\n",
       "MT    2247.61\n",
       "SP    1638.08\n",
       "AL    1516.54\n",
       "DF    1115.25\n",
       "MA     725.12\n",
       "GO     653.69\n",
       "PR     590.20\n",
       "SC     451.72\n",
       "PE     415.18"
      ]
     },
     "execution_count": 149,
     "metadata": {},
     "output_type": "execute_result"
    }
   ],
   "source": [
    "#Bonus por estados\n",
    "dados_estados_mean = dados_cidades.groupby(['STATE']).mean()\n",
    "\n",
    "dados_estados_mean.nlargest(10, 'ALT')[['ALT']]"
   ]
  },
  {
   "cell_type": "markdown",
   "metadata": {},
   "source": [
    "16- Existe alguma diferença significativa entre cidades com populações mais jovens e mais velhas?"
   ]
  },
  {
   "cell_type": "code",
   "execution_count": 133,
   "metadata": {},
   "outputs": [],
   "source": [
    "# O que define cidade mais velha?\n",
    "dados_cidades['%60anos+'] = (dados_cidades['IBGE_60+'] / dados_cidades['IBGE_POP']) * 100"
   ]
  },
  {
   "cell_type": "code",
   "execution_count": 134,
   "metadata": {},
   "outputs": [
    {
     "data": {
      "text/plain": [
       "count   5368.00\n",
       "mean      12.02\n",
       "std        3.35\n",
       "min        2.25\n",
       "25%        9.83\n",
       "50%       11.92\n",
       "75%       14.10\n",
       "max       42.20\n",
       "Name: %60anos+, dtype: float64"
      ]
     },
     "execution_count": 134,
     "metadata": {},
     "output_type": "execute_result"
    }
   ],
   "source": [
    "dados_cidades['%60anos+'].describe()\n",
    "#vamos considerar cidades mais velhas como as que tem mais de 12% de população com mais de 60 anos"
   ]
  },
  {
   "cell_type": "code",
   "execution_count": 135,
   "metadata": {},
   "outputs": [],
   "source": [
    "dados_cidades.loc[dados_cidades['%60anos+'] >= 12, 'CIDADE_VELHA'] = 1\n",
    "dados_cidades.loc[dados_cidades['%60anos+'] < 12, 'CIDADE_VELHA'] = 0"
   ]
  },
  {
   "cell_type": "code",
   "execution_count": 136,
   "metadata": {},
   "outputs": [
    {
     "data": {
      "image/png": "[encoded data removed]",
      "text/plain": [
       "<Figure size 432x288 with 1 Axes>"
      ]
     },
     "metadata": {
      "needs_background": "light"
     },
     "output_type": "display_data"
    }
   ],
   "source": [
    "ax = sns.boxplot(x=\"CIDADE_VELHA\", y=\"IBGE_RES_POP\", data=dados_cidades)"
   ]
  },
  {
   "cell_type": "code",
   "execution_count": 137,
   "metadata": {},
   "outputs": [
    {
     "data": {
      "image/png": "[encoded data removed]",
      "text/plain": [
       "<Figure size 432x288 with 1 Axes>"
      ]
     },
     "metadata": {
      "needs_background": "light"
     },
     "output_type": "display_data"
    }
   ],
   "source": [
    "#Vamos considerar cidades com menos de 100 mil para a visualização\n",
    "ax = sns.boxplot(x=\"CIDADE_VELHA\", y=\"IBGE_RES_POP\", data=dados_cidades.loc[dados_cidades['IBGE_RES_POP'] < 100000])\n",
    "#Cidades mais velhas tem população menor"
   ]
  },
  {
   "cell_type": "code",
   "execution_count": 138,
   "metadata": {},
   "outputs": [
    {
     "data": {
      "image/png": "[encoded data removed]",
      "text/plain": [
       "<Figure size 432x288 with 1 Axes>"
      ]
     },
     "metadata": {
      "needs_background": "light"
     },
     "output_type": "display_data"
    }
   ],
   "source": [
    "ax = sns.boxplot(x=\"CIDADE_VELHA\", y=\"IDHM\", data=dados_cidades)\n",
    "#Cidades mais velhas tem IDH maior"
   ]
  },
  {
   "cell_type": "markdown",
   "metadata": {},
   "source": [
    "17- Qual cidade com a maior taxa de veículos/habitantes? Esse dado pode ter alguma relação com outro dado disponibilizado?"
   ]
  },
  {
   "cell_type": "code",
   "execution_count": 139,
   "metadata": {},
   "outputs": [],
   "source": [
    "dados_cidades['veiculos/habitantes'] = (dados_cidades['Cars'] + dados_cidades['Motorcycles'] + dados_cidades['Wheeled_tractor']) / dados_cidades['IBGE_RES_POP']"
   ]
  },
  {
   "cell_type": "code",
   "execution_count": 140,
   "metadata": {},
   "outputs": [
    {
     "data": {
      "text/html": [
       "<div>\n",
       "<style scoped>\n",
       "    .dataframe tbody tr th:only-of-type {\n",
       "        vertical-align: middle;\n",
       "    }\n",
       "\n",
       "    .dataframe tbody tr th {\n",
       "        vertical-align: top;\n",
       "    }\n",
       "\n",
       "    .dataframe thead th {\n",
       "        text-align: right;\n",
       "    }\n",
       "</style>\n",
       "<table border=\"1\" class=\"dataframe\">\n",
       "  <thead>\n",
       "    <tr style=\"text-align: right;\">\n",
       "      <th></th>\n",
       "      <th>CITY</th>\n",
       "      <th>STATE</th>\n",
       "      <th>CAPITAL</th>\n",
       "      <th>IBGE_RES_POP</th>\n",
       "      <th>IBGE_RES_POP_BRAS</th>\n",
       "      <th>IBGE_RES_POP_ESTR</th>\n",
       "      <th>IBGE_DU</th>\n",
       "      <th>IBGE_DU_URBAN</th>\n",
       "      <th>IBGE_DU_RURAL</th>\n",
       "      <th>IBGE_POP</th>\n",
       "      <th>...</th>\n",
       "      <th>Motorcycles</th>\n",
       "      <th>Wheeled_tractor</th>\n",
       "      <th>UBER</th>\n",
       "      <th>MAC</th>\n",
       "      <th>WAL-MART</th>\n",
       "      <th>POST_OFFICES</th>\n",
       "      <th>IDH_BOM</th>\n",
       "      <th>veiculos/habitantes</th>\n",
       "      <th>%60anos+</th>\n",
       "      <th>CIDADE_VELHA</th>\n",
       "    </tr>\n",
       "  </thead>\n",
       "  <tbody>\n",
       "    <tr>\n",
       "      <th>688</th>\n",
       "      <td>Bom Jesus Do Norte</td>\n",
       "      <td>ES</td>\n",
       "      <td>0</td>\n",
       "      <td>9476.00</td>\n",
       "      <td>9472.00</td>\n",
       "      <td>4.00</td>\n",
       "      <td>3178.00</td>\n",
       "      <td>2944.00</td>\n",
       "      <td>234.00</td>\n",
       "      <td>8642.00</td>\n",
       "      <td>...</td>\n",
       "      <td>4328.00</td>\n",
       "      <td>5.00</td>\n",
       "      <td>0.00</td>\n",
       "      <td>0.00</td>\n",
       "      <td>0.00</td>\n",
       "      <td>1.00</td>\n",
       "      <td>0.00</td>\n",
       "      <td>1.13</td>\n",
       "      <td>13.70</td>\n",
       "      <td>1.00</td>\n",
       "    </tr>\n",
       "  </tbody>\n",
       "</table>\n",
       "<p>1 rows × 85 columns</p>\n",
       "</div>"
      ],
      "text/plain": [
       "                   CITY STATE  CAPITAL  IBGE_RES_POP  IBGE_RES_POP_BRAS  \\\n",
       "688  Bom Jesus Do Norte    ES        0       9476.00            9472.00   \n",
       "\n",
       "     IBGE_RES_POP_ESTR  IBGE_DU  IBGE_DU_URBAN  IBGE_DU_RURAL  IBGE_POP  ...  \\\n",
       "688               4.00  3178.00        2944.00         234.00   8642.00  ...   \n",
       "\n",
       "     Motorcycles  Wheeled_tractor  UBER  MAC  WAL-MART  POST_OFFICES  IDH_BOM  \\\n",
       "688      4328.00             5.00  0.00 0.00      0.00          1.00     0.00   \n",
       "\n",
       "     veiculos/habitantes  %60anos+  CIDADE_VELHA  \n",
       "688                 1.13     13.70          1.00  \n",
       "\n",
       "[1 rows x 85 columns]"
      ]
     },
     "execution_count": 140,
     "metadata": {},
     "output_type": "execute_result"
    }
   ],
   "source": [
    "dados_cidades[dados_cidades['veiculos/habitantes']==dados_cidades['veiculos/habitantes'].max()]"
   ]
  },
  {
   "cell_type": "code",
   "execution_count": 141,
   "metadata": {},
   "outputs": [],
   "source": [
    "correlacao = dados_cidades.corr()[['veiculos/habitantes']]"
   ]
  },
  {
   "cell_type": "code",
   "execution_count": 142,
   "metadata": {},
   "outputs": [
    {
     "data": {
      "text/html": [
       "<div>\n",
       "<style scoped>\n",
       "    .dataframe tbody tr th:only-of-type {\n",
       "        vertical-align: middle;\n",
       "    }\n",
       "\n",
       "    .dataframe tbody tr th {\n",
       "        vertical-align: top;\n",
       "    }\n",
       "\n",
       "    .dataframe thead th {\n",
       "        text-align: right;\n",
       "    }\n",
       "</style>\n",
       "<table border=\"1\" class=\"dataframe\">\n",
       "  <thead>\n",
       "    <tr style=\"text-align: right;\">\n",
       "      <th></th>\n",
       "      <th>veiculos/habitantes</th>\n",
       "    </tr>\n",
       "  </thead>\n",
       "  <tbody>\n",
       "    <tr>\n",
       "      <th>IDHM Ranking 2010</th>\n",
       "      <td>-0.84</td>\n",
       "    </tr>\n",
       "    <tr>\n",
       "      <th>IDHM</th>\n",
       "      <td>0.84</td>\n",
       "    </tr>\n",
       "    <tr>\n",
       "      <th>IDHM_Renda</th>\n",
       "      <td>0.85</td>\n",
       "    </tr>\n",
       "    <tr>\n",
       "      <th>IDHM_Longevidade</th>\n",
       "      <td>0.73</td>\n",
       "    </tr>\n",
       "    <tr>\n",
       "      <th>IDHM_Educacao</th>\n",
       "      <td>0.75</td>\n",
       "    </tr>\n",
       "    <tr>\n",
       "      <th>LONG</th>\n",
       "      <td>-0.41</td>\n",
       "    </tr>\n",
       "    <tr>\n",
       "      <th>LAT</th>\n",
       "      <td>-0.72</td>\n",
       "    </tr>\n",
       "    <tr>\n",
       "      <th>GDP_CAPITA</th>\n",
       "      <td>0.45</td>\n",
       "    </tr>\n",
       "    <tr>\n",
       "      <th>Pu_Bank</th>\n",
       "      <td>0.37</td>\n",
       "    </tr>\n",
       "    <tr>\n",
       "      <th>IDH_BOM</th>\n",
       "      <td>0.46</td>\n",
       "    </tr>\n",
       "    <tr>\n",
       "      <th>veiculos/habitantes</th>\n",
       "      <td>1.00</td>\n",
       "    </tr>\n",
       "  </tbody>\n",
       "</table>\n",
       "</div>"
      ],
      "text/plain": [
       "                     veiculos/habitantes\n",
       "IDHM Ranking 2010                  -0.84\n",
       "IDHM                                0.84\n",
       "IDHM_Renda                          0.85\n",
       "IDHM_Longevidade                    0.73\n",
       "IDHM_Educacao                       0.75\n",
       "LONG                               -0.41\n",
       "LAT                                -0.72\n",
       "GDP_CAPITA                          0.45\n",
       "Pu_Bank                             0.37\n",
       "IDH_BOM                             0.46\n",
       "veiculos/habitantes                 1.00"
      ]
     },
     "execution_count": 142,
     "metadata": {},
     "output_type": "execute_result"
    }
   ],
   "source": [
    "correlacao.loc[(correlacao['veiculos/habitantes'] > 0.3) | (correlacao['veiculos/habitantes'] < -0.3)]"
   ]
  },
  {
   "cell_type": "code",
   "execution_count": 143,
   "metadata": {},
   "outputs": [],
   "source": [
    "#Existe correlação com IDH e localização"
   ]
  },
  {
   "cell_type": "markdown",
   "metadata": {},
   "source": [
    "18- Qual a cidade com menos habitantes que possui Uber?"
   ]
  },
  {
   "cell_type": "code",
   "execution_count": 144,
   "metadata": {},
   "outputs": [
    {
     "data": {
      "text/html": [
       "<div>\n",
       "<style scoped>\n",
       "    .dataframe tbody tr th:only-of-type {\n",
       "        vertical-align: middle;\n",
       "    }\n",
       "\n",
       "    .dataframe tbody tr th {\n",
       "        vertical-align: top;\n",
       "    }\n",
       "\n",
       "    .dataframe thead th {\n",
       "        text-align: right;\n",
       "    }\n",
       "</style>\n",
       "<table border=\"1\" class=\"dataframe\">\n",
       "  <thead>\n",
       "    <tr style=\"text-align: right;\">\n",
       "      <th></th>\n",
       "      <th>CITY</th>\n",
       "      <th>STATE</th>\n",
       "      <th>CAPITAL</th>\n",
       "      <th>IBGE_RES_POP</th>\n",
       "      <th>IBGE_RES_POP_BRAS</th>\n",
       "      <th>IBGE_RES_POP_ESTR</th>\n",
       "      <th>IBGE_DU</th>\n",
       "      <th>IBGE_DU_URBAN</th>\n",
       "      <th>IBGE_DU_RURAL</th>\n",
       "      <th>IBGE_POP</th>\n",
       "      <th>...</th>\n",
       "      <th>Motorcycles</th>\n",
       "      <th>Wheeled_tractor</th>\n",
       "      <th>UBER</th>\n",
       "      <th>MAC</th>\n",
       "      <th>WAL-MART</th>\n",
       "      <th>POST_OFFICES</th>\n",
       "      <th>IDH_BOM</th>\n",
       "      <th>veiculos/habitantes</th>\n",
       "      <th>%60anos+</th>\n",
       "      <th>CIDADE_VELHA</th>\n",
       "    </tr>\n",
       "  </thead>\n",
       "  <tbody>\n",
       "    <tr>\n",
       "      <th>2583</th>\n",
       "      <td>Joaçaba</td>\n",
       "      <td>SC</td>\n",
       "      <td>0</td>\n",
       "      <td>27020.00</td>\n",
       "      <td>26999.00</td>\n",
       "      <td>21.00</td>\n",
       "      <td>9080.00</td>\n",
       "      <td>8446.00</td>\n",
       "      <td>634.00</td>\n",
       "      <td>15350.00</td>\n",
       "      <td>...</td>\n",
       "      <td>5263.00</td>\n",
       "      <td>39.00</td>\n",
       "      <td>1.00</td>\n",
       "      <td>0.00</td>\n",
       "      <td>0.00</td>\n",
       "      <td>2.00</td>\n",
       "      <td>1.00</td>\n",
       "      <td>0.70</td>\n",
       "      <td>12.96</td>\n",
       "      <td>1.00</td>\n",
       "    </tr>\n",
       "  </tbody>\n",
       "</table>\n",
       "<p>1 rows × 85 columns</p>\n",
       "</div>"
      ],
      "text/plain": [
       "         CITY STATE  CAPITAL  IBGE_RES_POP  IBGE_RES_POP_BRAS  \\\n",
       "2583  Joaçaba    SC        0      27020.00           26999.00   \n",
       "\n",
       "      IBGE_RES_POP_ESTR  IBGE_DU  IBGE_DU_URBAN  IBGE_DU_RURAL  IBGE_POP  ...  \\\n",
       "2583              21.00  9080.00        8446.00         634.00  15350.00  ...   \n",
       "\n",
       "      Motorcycles  Wheeled_tractor  UBER  MAC  WAL-MART  POST_OFFICES  \\\n",
       "2583      5263.00            39.00  1.00 0.00      0.00          2.00   \n",
       "\n",
       "      IDH_BOM  veiculos/habitantes  %60anos+  CIDADE_VELHA  \n",
       "2583     1.00                 0.70     12.96          1.00  \n",
       "\n",
       "[1 rows x 85 columns]"
      ]
     },
     "execution_count": 144,
     "metadata": {},
     "output_type": "execute_result"
    }
   ],
   "source": [
    "cidades_uber = dados_cidades[dados_cidades['UBER'] > 0]\n",
    "cidades_sem_uber = dados_cidades[dados_cidades['UBER'] == 0]\n",
    "cidades_uber[cidades_uber['IBGE_RES_POP'] == cidades_uber['IBGE_RES_POP'].min()]"
   ]
  },
  {
   "cell_type": "markdown",
   "metadata": {},
   "source": [
    "19- Qual a quantidade de cidades que possuem mais motos do que carro?"
   ]
  },
  {
   "cell_type": "code",
   "execution_count": 145,
   "metadata": {},
   "outputs": [
    {
     "data": {
      "text/plain": [
       "2364"
      ]
     },
     "execution_count": 145,
     "metadata": {},
     "output_type": "execute_result"
    }
   ],
   "source": [
    "dados_cidades[dados_cidades['Motorcycles'] > dados_cidades['Cars']]['CITY'].count()"
   ]
  },
  {
   "cell_type": "markdown",
   "metadata": {},
   "source": [
    "20- Podemos afirmar com confiança que cidades que possuem uber são cidades com uma área maior?"
   ]
  },
  {
   "cell_type": "code",
   "execution_count": 146,
   "metadata": {},
   "outputs": [
    {
     "name": "stdout",
     "output_type": "stream",
     "text": [
      "Intervalo de confiança cidades com Uber: (1593.905262040819, 3136.1287730469003)\n",
      "Intervalo de confiança cidades sem Uber: (1380.7936210629737, 1688.1820508060787)\n"
     ]
    }
   ],
   "source": [
    "import statsmodels.stats.api as sms\n",
    "\n",
    "intervalo_uber = sms.DescrStatsW(cidades_uber['AREA']).tconfint_mean(alpha = 0.05)\n",
    "intervalo_sem_uber = sms.DescrStatsW(cidades_sem_uber['AREA']).tconfint_mean(alpha = 0.05)\n",
    "print(f'Intervalo de confiança cidades com Uber: {intervalo_uber}')\n",
    "print(f'Intervalo de confiança cidades sem Uber: {intervalo_sem_uber}')"
   ]
  },
  {
   "cell_type": "code",
   "execution_count": 147,
   "metadata": {},
   "outputs": [
    {
     "name": "stdout",
     "output_type": "stream",
     "text": [
      "A hipotese de os dois conjuntos terem médias iguais não pode ser rejeitada, ou seja, são iguais\n"
     ]
    }
   ],
   "source": [
    "from scipy import stats\n",
    "\n",
    "alpha = 0.05\n",
    "stat, p = stats.ttest_ind(cidades_uber['AREA'], cidades_sem_uber['AREA'])\n",
    "if p < alpha: # hipótese nula: As médias são iguais\n",
    " print(\"A hipotese de os dois conjuntos terem médias iguais pode ser rejeitada, ou seja, são diferentes\")\n",
    "else:\n",
    " print(\"A hipotese de os dois conjuntos terem médias iguais não pode ser rejeitada, ou seja, são iguais\")\n"
   ]
  }
 ],
 "metadata": {
  "kernelspec": {
   "display_name": "Python 3",
   "language": "python",
   "name": "python3"
  },
  "language_info": {
   "codemirror_mode": {
    "name": "ipython",
    "version": 3
   },
   "file_extension": ".py",
   "mimetype": "text/x-python",
   "name": "python",
   "nbconvert_exporter": "python",
   "pygments_lexer": "ipython3",
   "version": "3.8.8"
  }
 },
 "nbformat": 4,
 "nbformat_minor": 4
}
